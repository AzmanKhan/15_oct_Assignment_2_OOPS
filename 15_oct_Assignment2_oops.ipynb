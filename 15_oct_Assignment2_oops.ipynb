{
 "cells": [
  {
   "cell_type": "markdown",
   "id": "da794176-f561-49e7-8cee-28c975347b59",
   "metadata": {},
   "source": [
    "# Constructor:"
   ]
  },
  {
   "cell_type": "markdown",
   "id": "d576f430-2aa9-4ba3-9b76-7cc8d2b50c5e",
   "metadata": {},
   "source": [
    "# 1. What is a constructor in Python? Explain its purpose and usage."
   ]
  },
  {
   "cell_type": "markdown",
   "id": "517c612e-271a-486f-8b15-67de1c072a45",
   "metadata": {},
   "source": [
    "A constructor is a special method  called \" __init__ \". It is automatically invoked when an object is created from a class.\n",
    "\n",
    "A constructor is used to pass  a data whenever we create  an object we have to pass a data when we create an object. \n",
    "\n",
    "The primary purpose of a constructor is to initialize the attributes of an object when it is created.\n",
    "\n",
    "A constructor is a method with always has a name init and the name init is prefixed and suffixed with a double underscore (__)"
   ]
  },
  {
   "cell_type": "code",
   "execution_count": 2,
   "id": "af4892a9-d9c0-441f-ba13-8ea0bc37c7cb",
   "metadata": {},
   "outputs": [],
   "source": [
    "class MyClass:\n",
    "    def __init__(self, param1, param2):\n",
    "        # Initialization code here\n",
    "        self.attribute1 = param1\n",
    "        self.attribute2 = param2\n",
    "        \n",
    "obj = MyClass('value1', 'value2')  # __init__ is automatically called here"
   ]
  },
  {
   "cell_type": "markdown",
   "id": "893668d8-af61-43eb-a8c3-70db1dda4656",
   "metadata": {},
   "source": [
    "# 2. Differentiate between a parameterless constructor and a parameterized constructor in Python."
   ]
  },
  {
   "cell_type": "raw",
   "id": "ec32964c-c676-43a4-bb98-a9d1e300a586",
   "metadata": {},
   "source": [
    "Parameterless Constructor:\n",
    "\n",
    "A parameterless constructor, also known as a default constructor, is a constructor that takes no parameters other than self it is defined using __init__ method.\n",
    "\n",
    "for example :\n",
    "def __init__(self):\n",
    "\n",
    "Parameterized Constructor:\n",
    "\n",
    "A parameterized constructor is a constructor that takes one or more parameters in addition to self.\n",
    "for example :-\n",
    "\n",
    "def __init__(self, value1 , value2):\n"
   ]
  },
  {
   "cell_type": "markdown",
   "id": "25a7eeba-25c0-4c7b-ac13-0534624e7b35",
   "metadata": {},
   "source": [
    "# 3. How do you define a constructor in a Python class? Provide an example."
   ]
  },
  {
   "cell_type": "code",
   "execution_count": 1,
   "id": "9e3b77e7-01f1-4412-a571-2d5de502d56c",
   "metadata": {},
   "outputs": [
    {
     "name": "stdout",
     "output_type": "stream",
     "text": [
      "value1\n",
      "value2\n"
     ]
    }
   ],
   "source": [
    "class MyClass:\n",
    "    def __init__(self, value1, value2):\n",
    "    \n",
    "        self.attribute1 = value1\n",
    "        self.attribute2 = value2\n",
    "\n",
    "# Creating an object of MyClass and passing values to the constructor\n",
    "my_object = MyClass(\"value1\", \"value2\")\n",
    "\n",
    "# Accessing the attributes of the object\n",
    "print(my_object.attribute1)  \n",
    "print(my_object.attribute2)  \n"
   ]
  },
  {
   "cell_type": "markdown",
   "id": "d6a9d40b-441f-4fe5-8b2b-b48369f6edc7",
   "metadata": {},
   "source": [
    "# 4. Explain the `__init__` method in Python and its role in constructors."
   ]
  },
  {
   "cell_type": "markdown",
   "id": "c2281dd5-833b-41e5-a6f8-62d2d37d4f12",
   "metadata": {},
   "source": [
    "It is used to provide multiple data for excessing by creating the different object \n",
    "The role of __init__ in the constructor is specifically related to initialization."
   ]
  },
  {
   "cell_type": "markdown",
   "id": "ed78a2b0-5a03-4aa6-8ede-186ec55cc869",
   "metadata": {},
   "source": [
    "# 5. In a class named `Person`, create a constructor that initializes the `name` and `age` attributes. Provide an example of creating an object of this class."
   ]
  },
  {
   "cell_type": "code",
   "execution_count": 3,
   "id": "484c78c9-a8bc-4abc-9519-bd9bb28bd097",
   "metadata": {},
   "outputs": [
    {
     "name": "stdout",
     "output_type": "stream",
     "text": [
      "Name : Azman khan\n",
      "Age: 23\n"
     ]
    }
   ],
   "source": [
    "class person:\n",
    "    def __init__(self,name,age):\n",
    "        self.name = name \n",
    "        self.age = age \n",
    "person1 = person(\"Azman khan\" ,23)\n",
    "print (\"Name :\", person1.name)\n",
    "print (\"Age:\" ,person1.age)"
   ]
  },
  {
   "cell_type": "markdown",
   "id": "9311bcf2-798f-4be4-808f-e567582c71c2",
   "metadata": {},
   "source": [
    "# 6. How can you call a constructor explicitly in Python? Give an example."
   ]
  },
  {
   "cell_type": "code",
   "execution_count": 10,
   "id": "08f638d9-551b-472e-a978-59e35578f23c",
   "metadata": {},
   "outputs": [
    {
     "name": "stderr",
     "output_type": "stream",
     "text": [
      "ERROR:root:'NoneType' object has no attribute 'value'\n"
     ]
    },
    {
     "name": "stdout",
     "output_type": "stream",
     "text": [
      "Constructor called with value: 10\n",
      "Constructor called with value: 20\n",
      "20\n"
     ]
    }
   ],
   "source": [
    "import logging\n",
    "class MyClass:\n",
    "    def __init__(self, value):\n",
    "        self.value = value\n",
    "        print(f\"Constructor called with value: {self.value}\")\n",
    "\n",
    "myClass_obj1 = MyClass(10)  \n",
    "\n",
    "myClass_obj2 = MyClass.__init__(myClass_obj1, 20)  # Explicitly calling the constructor\n",
    "try :\n",
    "    print(myClass_obj1.value)   \n",
    "    print(myClass_obj2.value)\n",
    "except Exception as e :\n",
    "    logging.error(e)"
   ]
  },
  {
   "cell_type": "markdown",
   "id": "1fe731b4-a0a3-444c-bb98-a09509c2c332",
   "metadata": {},
   "source": [
    "# 7. What is the significance of the `self` parameter in Python constructors? Explain with an example.\n"
   ]
  },
  {
   "cell_type": "markdown",
   "id": "a36079e6-2347-4a72-bd06-ad57a85b90ca",
   "metadata": {},
   "source": [
    "The self parameter in constructors and methods refers to the instance of the class itself. It allows you to access and manipulate the instance variables within the class"
   ]
  },
  {
   "cell_type": "code",
   "execution_count": 8,
   "id": "4e54f298-18e1-4564-bdae-03682858ae27",
   "metadata": {},
   "outputs": [
    {
     "name": "stdout",
     "output_type": "stream",
     "text": [
      "Name: Azman khan,\n",
      "Age: 23\n"
     ]
    }
   ],
   "source": [
    "class person :\n",
    "    def __init__(self, name, age):\n",
    "        self.name = name\n",
    "        self.age = age\n",
    "\n",
    "    def display_info(self):\n",
    "        print(f\"Name: {self.name},\\nAge: {self.age}\")\n",
    "\n",
    "obj = person(\"Azman khan\", 23)\n",
    "obj.display_info()"
   ]
  },
  {
   "cell_type": "markdown",
   "id": "262aafd5-fb4f-4da9-93cc-e410301d98a3",
   "metadata": {},
   "source": [
    "# 8. Discuss the concept of default constructors in Python. When are they used?"
   ]
  },
  {
   "cell_type": "markdown",
   "id": "6d8ad2e4-0088-41d5-984f-8c5062c73960",
   "metadata": {},
   "source": [
    "The Python default constructor is a simple constructor which doesn’t accept any arguments.\n",
    "\n",
    "A default constructor is a special type of constructor that is called when an object is created.\n",
    "It is used to initialize the object's data members to their default values. "
   ]
  },
  {
   "cell_type": "markdown",
   "id": "a2f9e1c4-0fcb-445f-868c-3a8470bf01ee",
   "metadata": {},
   "source": [
    "# 9. Create a Python class called `Rectangle` with a constructor that initializes the `width` and `height`attributes. Provide a method to calculate the area of the rectangle."
   ]
  },
  {
   "cell_type": "code",
   "execution_count": 3,
   "id": "24c4d7c4-df2c-4d5e-8f13-fbdb5f0d69f4",
   "metadata": {},
   "outputs": [
    {
     "name": "stdout",
     "output_type": "stream",
     "text": [
      "The area of rectangle is : 35\n"
     ]
    }
   ],
   "source": [
    "class rectangle:\n",
    "    \n",
    "    def __init__(self,width,height):\n",
    "        self.width = width\n",
    "        self.height = height \n",
    "    \n",
    "    def area(self):\n",
    "        result = self.width * self.height\n",
    "        print(\"The area of rectangle is :\",result)\n",
    "    \n",
    "area_of_rectangle = rectangle(5,7)\n",
    "area_of_rectangle.area()\n",
    "    "
   ]
  },
  {
   "cell_type": "markdown",
   "id": "09ac05dc-974a-4adf-bd31-2018bdd5a1a7",
   "metadata": {
    "tags": []
   },
   "source": [
    "# 10. How can you have multiple constructors in a Python class? Explain with an example."
   ]
  },
  {
   "cell_type": "code",
   "execution_count": 7,
   "id": "a8a5c68f-16b8-4373-8207-81bab3caadf9",
   "metadata": {},
   "outputs": [
    {
     "name": "stdout",
     "output_type": "stream",
     "text": [
      "The area of rectangle 1 is : 40\n",
      "The area of rectangle 2 is : 120\n"
     ]
    }
   ],
   "source": [
    "class Rectangle:\n",
    "    def __init__(self, width=0, height=0):\n",
    "        self.width = width\n",
    "        self.height = height\n",
    "\n",
    "    def area(self):\n",
    "        result = self.width * self.height\n",
    "        return result \n",
    "\n",
    "\n",
    "rectangle1 = Rectangle(5, 8) \n",
    "rectangle2 = Rectangle(12,10) \n",
    "\n",
    "print (\"The area of rectangle 1 is :\",rectangle1.area())\n",
    "print(\"The area of rectangle 2 is :\",rectangle2.area())"
   ]
  },
  {
   "cell_type": "markdown",
   "id": "ba28e687-4f6e-42da-b89c-79938696332e",
   "metadata": {},
   "source": [
    "# 11. What is method overloading, and how is it related to constructors in Python?"
   ]
  },
  {
   "cell_type": "markdown",
   "id": "5147285d-f0cd-46c7-89eb-e6061ca2656d",
   "metadata": {},
   "source": [
    "Two methods in a class have the same name we call method overloading. Both the methods are having different signatures. Signature means a different number of parameters. If the constructor is written two times with different signatures, we call constructor overloading."
   ]
  },
  {
   "cell_type": "markdown",
   "id": "fc5d9bfb-023f-40b7-889e-c3b40b9eece5",
   "metadata": {},
   "source": [
    "# 12. Explain the use of the `super()` function in Python constructors. Provide an example."
   ]
  },
  {
   "cell_type": "code",
   "execution_count": 32,
   "id": "f2969bb8-30c5-4cff-a0b1-65963116fe29",
   "metadata": {},
   "outputs": [
    {
     "name": "stdout",
     "output_type": "stream",
     "text": [
      "Azman Khan Azman Khan\n",
      "Azman Khan 34\n"
     ]
    }
   ],
   "source": [
    "class person :\n",
    "    def __init__(self,age,name):\n",
    "        self.age = age\n",
    "        self.name = name\n",
    "    def display (self):\n",
    "        print(self.name ,self.age)\n",
    "        \n",
    "class manager(person):\n",
    "    def __init__(self, age ,name ):\n",
    "        self.name1 = name\n",
    "        super().__init__(age,name)\n",
    "        \n",
    "# calling parrent class function         \n",
    "person_1 = manager(age = 34 ,name = \"Azman Khan\")\n",
    "print(person_1.name1, person_1.name)\n",
    "person_1.display()     "
   ]
  },
  {
   "cell_type": "markdown",
   "id": "2bcce4bb-1b7b-474d-ad07-38436a850003",
   "metadata": {},
   "source": [
    "# 13. Create a class called `Book` with a constructor that initializes the `title`, `author`, and `published_year`attributes. Provide a method to display book details."
   ]
  },
  {
   "cell_type": "code",
   "execution_count": 5,
   "id": "7caa9885-4b82-4fc6-84e7-73b63f578f68",
   "metadata": {},
   "outputs": [
    {
     "name": "stdout",
     "output_type": "stream",
     "text": [
      "The Title of This book is MERCHANT OF VENICE  and the Author is William Shakespeare  published in 1890\n"
     ]
    }
   ],
   "source": [
    "class book :\n",
    "    def __init__(self, title ,author, published_year):\n",
    "        self.title = title\n",
    "        self.author = author\n",
    "        self.published_year = published_year\n",
    "    def display(self):\n",
    "        print(f\"The Title of This book is {self.title} and the Author is{self.author} published in {self.published_year}\")\n",
    "        \n",
    "details = book(\"MERCHANT OF VENICE \",\" William Shakespeare \",1890)\n",
    "details.display()"
   ]
  },
  {
   "cell_type": "markdown",
   "id": "8720d4ab-b463-4f69-9027-9a2d84b7dbc0",
   "metadata": {},
   "source": [
    "# 14. Discuss the differences between constructors and regular methods in Python classes."
   ]
  },
  {
   "cell_type": "markdown",
   "id": "4f7657e2-ee30-4aab-9d56-91d9510f1ad7",
   "metadata": {},
   "source": [
    "#Constructor: A constructor is a special method used for initializing newly created objects. It is called automatically when a new instance of the class is created.\n",
    "\n",
    "#Regular Method: A regular method is any method defined within a class that performs some action or provides some functionality related to the objects of that class. Regular methods are called explicitly by the object.\n",
    " "
   ]
  },
  {
   "cell_type": "markdown",
   "id": "c7a63798-bfce-4ee2-aeae-b2e156596403",
   "metadata": {},
   "source": [
    "# 15. Explain the role of the `self` parameter in instance variable initialization within a constructor."
   ]
  },
  {
   "cell_type": "markdown",
   "id": "a2a18240-e763-43c9-ae59-f34f09db8dd2",
   "metadata": {},
   "source": [
    "The self parameter in Python's constructor (__init__ method) refers to the instance being created. It allows instance variables to be initialized and accessed within the class, ensuring that each instance maintains its own unique state. By using self.variable_name, instance variables are bound to the instance and remain accessible throughout its lifetime."
   ]
  },
  {
   "cell_type": "code",
   "execution_count": 6,
   "id": "a834692e-d662-4396-a6f9-e5eee48b10a8",
   "metadata": {},
   "outputs": [],
   "source": [
    "class MyClass:\n",
    "    def __init__(self, x):\n",
    "        self.x = x  # 'self' ensures 'x' is an instance variable of the current instance\n",
    "\n",
    "    def display(self):\n",
    "        print(\"Value of x:\", self.x)  # 'self' allows accessing 'x' within instance methods\n",
    "\n",
    "# Creating an object and invoking the constructor\n",
    "obj = MyClass(10)\n"
   ]
  },
  {
   "cell_type": "markdown",
   "id": "337ecdab-c44a-49fd-8454-1cb7ad8d6f31",
   "metadata": {},
   "source": [
    "#  16. How do you prevent a class from having multiple instances by using constructors in Python? Provide an example."
   ]
  },
  {
   "cell_type": "code",
   "execution_count": 8,
   "id": "20a9eabe-4e35-4575-9d4c-83626d1387f2",
   "metadata": {},
   "outputs": [
    {
     "name": "stdout",
     "output_type": "stream",
     "text": [
      "Instance 1 data\n",
      "Instance 1 data\n",
      "True\n"
     ]
    }
   ],
   "source": [
    "class Singleton:\n",
    "    _instance = None\n",
    "\n",
    "    def __new__(cls, *args, **kwargs):\n",
    "        if cls._instance is None:\n",
    "            cls._instance = super().__new__(cls)\n",
    "        return cls._instance\n",
    "\n",
    "    def __init__(self, data):\n",
    "        if not hasattr(self, 'initialized'):\n",
    "            self.data = data\n",
    "            self.initialized = True\n",
    "\n",
    "# Creating instances\n",
    "singleton1 = Singleton(\"Instance 1 data\")\n",
    "singleton2 = Singleton(\"Instance 2 data\")\n",
    "\n",
    "print(singleton1.data)  # Output: Instance 1 data\n",
    "print(singleton2.data)  # Output: Instance 1 data (same as singleton1)\n",
    "\n",
    "print(singleton1 is singleton2)  # Output: True (both variables refer to the same instance)\n"
   ]
  },
  {
   "cell_type": "markdown",
   "id": "cb7767ec-6175-4704-94be-46fec44cb43b",
   "metadata": {},
   "source": [
    "# 17. Create a Python class called `Student` with a constructor that takes a list of subjects as a parameter and initializes the `subjects` attribute."
   ]
  },
  {
   "cell_type": "code",
   "execution_count": 12,
   "id": "1cbb14b8-8eaa-464c-b1d4-c3deade180d5",
   "metadata": {},
   "outputs": [
    {
     "name": "stdout",
     "output_type": "stream",
     "text": [
      "['English', 'Maths', 'Science']\n"
     ]
    }
   ],
   "source": [
    "class student :\n",
    "    def __init__(self,subjects):\n",
    "        self.subjects = subjects\n",
    "subject_list = ['English' , 'Maths' , 'Science']\n",
    "student1 = student(subject_list)\n",
    "print(student1.subjects)"
   ]
  },
  {
   "cell_type": "markdown",
   "id": "afe27e24-ac20-4c55-8275-b59719645d88",
   "metadata": {},
   "source": [
    "# 18. What is the purpose of the `__del__` method in Python classes, and how does it relate to constructors?"
   ]
  },
  {
   "cell_type": "markdown",
   "id": "b2b853b7-8ffd-4abe-aefa-5810d33697e6",
   "metadata": {},
   "source": [
    " The purpose of the __del__ method is to perform any necessary cleanup actions just before an object is destroyed. This can include releasing resources like file handles, network connections, or other external resources that the object might be holding onto.\n",
    " \n",
    "It's called a \"destructor\" because it's invoked when an object is about to be destroyed, typically when it is garbage collected."
   ]
  },
  {
   "cell_type": "markdown",
   "id": "f14cefb1-620b-4877-80e5-c3fea1251157",
   "metadata": {},
   "source": [
    "# 19 19. Explain the use of constructor chaining in Python. Provide a practical example."
   ]
  },
  {
   "cell_type": "markdown",
   "id": "b3d4e14f-9aa7-435c-98a7-e4e0271992a3",
   "metadata": {},
   "source": [
    "Constructor chaining in Python refers to the concept of one constructor calling another constructor within the same class or in its superclass"
   ]
  },
  {
   "cell_type": "code",
   "execution_count": 1,
   "id": "bbc411a8-51e1-40d6-a3e3-09169cac06a7",
   "metadata": {},
   "outputs": [
    {
     "name": "stdout",
     "output_type": "stream",
     "text": [
      "Person constructor called.\n",
      "Employee constructor called.\n"
     ]
    }
   ],
   "source": [
    "class person:\n",
    "    def __init__(self, name):\n",
    "        self.name = name\n",
    "        print(\"Person constructor called.\")\n",
    "        \n",
    "class employee(person):\n",
    "    def __init__(self, name, emp_id):\n",
    "        super().__init__(name)  # Call the constructor of the superclass\n",
    "        self.emp_id = emp_id\n",
    "        print(\"Employee constructor called.\")\n",
    "\n",
    "employee = employee(\"Azman\", 123)\n"
   ]
  },
  {
   "cell_type": "markdown",
   "id": "d473e001-3083-43ac-96b7-d14fba2d54ff",
   "metadata": {},
   "source": [
    "# 20. Create a Python class called `Car` with a default constructor that initializes the `make` and `model` attributes. Provide a method to display car information."
   ]
  },
  {
   "cell_type": "code",
   "execution_count": 9,
   "id": "1e7af01a-d7b3-4565-88e9-e3b6644fa284",
   "metadata": {},
   "outputs": [
    {
     "name": "stdout",
     "output_type": "stream",
     "text": [
      "Make Car Ferrari,and Model 296 GTB \n"
     ]
    }
   ],
   "source": [
    "class Car:\n",
    "    def __init__(self, make ,model):\n",
    "        self.make = make\n",
    "        self.model = model\n",
    "    def display_details(self):\n",
    "        print(f\"Make Car {self.make},and Model{self.model}\")\n",
    "\n",
    "details = Car(\"Ferrari\" ,\" 296 GTB \")\n",
    "details.display_details()"
   ]
  },
  {
   "cell_type": "markdown",
   "id": "df474ef6-5084-4cc7-8c13-bdc323398470",
   "metadata": {},
   "source": [
    "# Inheritance:"
   ]
  },
  {
   "cell_type": "markdown",
   "id": "6a39e9dc-53c4-40aa-aed2-46a79cd66273",
   "metadata": {},
   "source": [
    "# 1. What is inheritance in Python? Explain its significance in object-oriented programming.\n"
   ]
  },
  {
   "cell_type": "markdown",
   "id": "5495032b-e1b3-49bd-a092-f460481b8ade",
   "metadata": {},
   "source": [
    "Inheritance is the one of the most important Concept of OOPs programming language \n",
    "Inheritance is a method in which a class inherit all the properties of another class\n"
   ]
  },
  {
   "cell_type": "code",
   "execution_count": 31,
   "id": "9a9f1fe7-db1d-4e43-8b87-9bbffb702f47",
   "metadata": {},
   "outputs": [
    {
     "name": "stdout",
     "output_type": "stream",
     "text": [
      "Hello\n"
     ]
    }
   ],
   "source": [
    "class a :\n",
    "    def test1(self):\n",
    "        print(\"Hello\")\n",
    "    \n",
    "class b(a):\n",
    "    def test2(self):\n",
    "        print(\"World\")\n",
    "obj = a()\n",
    "obj.test1()"
   ]
  },
  {
   "cell_type": "code",
   "execution_count": 23,
   "id": "ff74a337-1507-4cb0-858d-363a0d1d002d",
   "metadata": {},
   "outputs": [
    {
     "name": "stdout",
     "output_type": "stream",
     "text": [
      "Hello\n",
      "World\n"
     ]
    }
   ],
   "source": [
    "obj= b()\n",
    "obj.test1()\n",
    "obj.test2()"
   ]
  },
  {
   "cell_type": "markdown",
   "id": "7de9a274-62c0-466f-8e78-798f1245ee02",
   "metadata": {},
   "source": [
    "# 2. Differentiate between single inheritance and multiple inheritance in Python. Provide examples for each."
   ]
  },
  {
   "cell_type": "markdown",
   "id": "397e34d5-18e3-4dfd-867d-b6861a0e31f7",
   "metadata": {},
   "source": [
    "### Single Inheritance:\n",
    "In single inheritance, a class inherits from only one base class.\n",
    "This means that a derived class (subclass) extends the functionality of a single base class.\n",
    "\n",
    "### Multiple Inheritance:\n",
    "In multiple inheritance, a class can inherit attributes and methods from more than one base class.\n",
    "This allows a class to combine the properties and behaviors of multiple classes."
   ]
  },
  {
   "cell_type": "code",
   "execution_count": 1,
   "id": "98b4e46d-0f73-4c87-903a-b6d1e1c6b48e",
   "metadata": {},
   "outputs": [
    {
     "name": "stdout",
     "output_type": "stream",
     "text": [
      "Woof\n"
     ]
    }
   ],
   "source": [
    "class Animal:\n",
    "    def sound(self):\n",
    "        print(\"Some generic sound\")\n",
    "\n",
    "class Dog(Animal):\n",
    "    def sound(self):\n",
    "        print(\"Woof\")\n",
    "\n",
    "dog = Dog()\n",
    "dog.sound() \n"
   ]
  },
  {
   "cell_type": "code",
   "execution_count": 2,
   "id": "529c64a5-6a50-4b5a-8c62-de38f14cdb23",
   "metadata": {},
   "outputs": [
    {
     "name": "stdout",
     "output_type": "stream",
     "text": [
      "Flying\n",
      "Swimming\n"
     ]
    }
   ],
   "source": [
    "class Flyable:\n",
    "    def fly(self):\n",
    "        print(\"Flying\")\n",
    "\n",
    "class Swimmable:\n",
    "    def swim(self):\n",
    "        print(\"Swimming\")\n",
    "\n",
    "class Duck(Flyable, Swimmable):\n",
    "    pass\n",
    "\n",
    "duck = Duck()\n",
    "duck.fly()\n",
    "duck.swim()"
   ]
  },
  {
   "cell_type": "markdown",
   "id": "745b1a55-68ea-4889-80a6-c99c061152d9",
   "metadata": {},
   "source": [
    "# 3. Create a Python class called `Vehicle` with attributes `color` and `speed`. Then, create a child class called `Car` that inherits from `Vehicle` and adds a `brand` attribute. Provide an example of creating a `Car` object."
   ]
  },
  {
   "cell_type": "code",
   "execution_count": 14,
   "id": "f94180f7-543c-4f2f-b86e-87edb3c85027",
   "metadata": {},
   "outputs": [],
   "source": [
    "class Vehical:\n",
    "    def __init__(self,color , speed):\n",
    "        self.color = color\n",
    "        self.speed = speed\n",
    "\n",
    "class Car(Vehical):\n",
    "    def __init__(self, color, speed, brand):\n",
    "        super().__init__(color, speed)\n",
    "        self.brand = brand\n",
    "        \n",
    "    def dispaly(self):\n",
    "        print(f\"{self.brand} Brand car color is {self.color} and its speed is {self.speed}\")"
   ]
  },
  {
   "cell_type": "code",
   "execution_count": 16,
   "id": "a69166af-f241-4588-a074-22ec3c862de6",
   "metadata": {},
   "outputs": [
    {
     "name": "stdout",
     "output_type": "stream",
     "text": [
      "CREATA Brand car color is Red and its speed is 120kmph\n"
     ]
    }
   ],
   "source": [
    "car = Car('Red','120kmph','CREATA')\n",
    "car.dispaly()"
   ]
  },
  {
   "cell_type": "markdown",
   "id": "70713f26-a7e9-4a9d-addc-0a6dfeeaff6b",
   "metadata": {},
   "source": [
    "# 4. Explain the concept of method overriding in inheritance. Provide a practical example."
   ]
  },
  {
   "cell_type": "markdown",
   "id": "4c16d289-baa6-462d-b8f9-fb7acfe87e4b",
   "metadata": {},
   "source": [
    "Method overriding is the conceppt in which the Subclass has the same method as declared in the Super Class \n",
    "It is like same function having same signature but differnt classes connected through Inheritance \n"
   ]
  },
  {
   "cell_type": "code",
   "execution_count": 29,
   "id": "bdb80297-7a23-41f8-8b3e-8a4b4bf72f9e",
   "metadata": {},
   "outputs": [
    {
     "name": "stdout",
     "output_type": "stream",
     "text": [
      "The area of rectangle is  8\n",
      "The area of circle is  50.24\n"
     ]
    }
   ],
   "source": [
    "# example of overriding \n",
    "class Shape:\n",
    "    def __init__(self, x,y):\n",
    "        self.x = x\n",
    "        self.y = y\n",
    "        \n",
    "    def area(self):\n",
    "        return self.x * self.y\n",
    "    \n",
    "class Circle(Shape):\n",
    "    def __init__(self,radius):\n",
    "        self.radius = radius\n",
    "        super().__init__(radius,radius)\n",
    "    def area(self):\n",
    "        return 3.14 *super().area() # overriding from the parent class\n",
    "    \n",
    "rec = Shape(2,4)\n",
    "print(\"The area of rectangle is \",rec.area())\n",
    "cir = Circle(4)\n",
    "print(\"The area of circle is \",cir.area())\n"
   ]
  },
  {
   "cell_type": "markdown",
   "id": "bc6f1bb3-015e-4f7d-be75-6f0edfbb5f1e",
   "metadata": {},
   "source": [
    "# 5. How can you access the methods and attributes of a parent class from a child class in Python? Give an example."
   ]
  },
  {
   "cell_type": "code",
   "execution_count": 26,
   "id": "60aa2074-5f2c-4fce-af9c-db3f77caafa8",
   "metadata": {},
   "outputs": [
    {
     "name": "stdout",
     "output_type": "stream",
     "text": [
      "34 This is the child class\n",
      "34 This is the Parent class\n"
     ]
    }
   ],
   "source": [
    "class Parent():\n",
    "    def __init__(self, name):\n",
    "        self.name = name\n",
    "        self.age = 34\n",
    "\n",
    "class Child(Parent):\n",
    "    def __init__(self,name):\n",
    "        super().__init__(name) # excessing the parents instance Variable\n",
    "        \n",
    "        print(self.age, \"This is the child class\" )\n",
    "\n",
    "child = Child(\"Azman khan\")\n",
    "print (child.age, \"This is the Parent class\")"
   ]
  },
  {
   "cell_type": "markdown",
   "id": "9b01d6aa-9a0f-41f1-931e-373ebe1106c2",
   "metadata": {},
   "source": [
    "# 6. Discuss the use of the `super()` function in Python inheritance. When and why is it used? Provide an example."
   ]
  },
  {
   "cell_type": "markdown",
   "id": "ad9231bd-281d-4d13-86a3-f6471c289dfb",
   "metadata": {},
   "source": [
    "The super() function is used to call methods and access attributes of the parent class from within a subclass "
   ]
  },
  {
   "cell_type": "code",
   "execution_count": 1,
   "id": "8ad07f7c-3500-48d1-8813-5216c16d0bf8",
   "metadata": {},
   "outputs": [
    {
     "name": "stdout",
     "output_type": "stream",
     "text": [
      "34 This is the child class\n",
      "34 This is the Parent class\n"
     ]
    }
   ],
   "source": [
    "class Parent():\n",
    "    def __init__(self, name):\n",
    "        self.name = name\n",
    "        self.age = 34\n",
    "\n",
    "class Child(Parent):\n",
    "    def __init__(self,name):\n",
    "        super().__init__(name) # excessing the parents instance Variable\n",
    "        \n",
    "        print(self.age, \"This is the child class\" )\n",
    "\n",
    "child = Child(\"Azman khan\")\n",
    "print (child.age, \"This is the Parent class\")"
   ]
  },
  {
   "cell_type": "markdown",
   "id": "d3aaf276-3e6b-450a-b048-b7030899503a",
   "metadata": {},
   "source": [
    "# 7. Create a Python class called `Animal` with a method `speak()`. Then, create child classes `Dog` and `Cat`"
   ]
  },
  {
   "cell_type": "code",
   "execution_count": 8,
   "id": "7a1eb5a7-ae8d-4467-ad00-ff9d1a92ad8c",
   "metadata": {},
   "outputs": [
    {
     "name": "stdout",
     "output_type": "stream",
     "text": [
      "Woof\n",
      "Meow\n"
     ]
    }
   ],
   "source": [
    "class Animal :\n",
    "    def speak(self):\n",
    "        pass\n",
    "    \n",
    "class Dog(Animal):\n",
    "    def speak(self):\n",
    "        print(\"Woof\")\n",
    "\n",
    "class Cat(Animal):\n",
    "    def speak(self):\n",
    "        print(\"Meow\")\n",
    "\n",
    "dog = Dog()\n",
    "dog.speak()\n",
    "cat = Cat()\n",
    "cat.speak()"
   ]
  },
  {
   "cell_type": "markdown",
   "id": "aa914dff-4a49-4106-9901-eff9c588449f",
   "metadata": {},
   "source": [
    "# 8. Explain the role of the `isinstance()` function in Python and how it relates to inheritance."
   ]
  },
  {
   "cell_type": "markdown",
   "id": "bfcebdbb-c50e-45b5-b4f2-df7b4e42300e",
   "metadata": {},
   "source": [
    "The isinstance() function is used to check if an object belongs to a specific class or is an instance of a subclass."
   ]
  },
  {
   "cell_type": "code",
   "execution_count": 9,
   "id": "88fcb8e1-aa9c-4700-89fb-480953052dc8",
   "metadata": {},
   "outputs": [
    {
     "name": "stdout",
     "output_type": "stream",
     "text": [
      "True\n",
      "False\n"
     ]
    }
   ],
   "source": [
    "# for example\n",
    "class Animal:\n",
    "    pass\n",
    "\n",
    "class Dog(Animal):\n",
    "    pass\n",
    "\n",
    "animal = Animal()\n",
    "print(isinstance(animal, Animal))\n",
    "print(isinstance(animal, Dog)) \n",
    "#Here, animal is an instance of the Animal class but not of the Dog class, as Dog is a subclass of Animal"
   ]
  },
  {
   "cell_type": "markdown",
   "id": "5b3b2d57-0592-4f26-94b2-feab8dcf2f72",
   "metadata": {},
   "source": [
    "# 9. What is the purpose of the `issubclass()` function in Python? Provide an example."
   ]
  },
  {
   "cell_type": "markdown",
   "id": "2344a840-e40f-454b-87b8-78ac821cabd4",
   "metadata": {},
   "source": [
    "The issubclass() function in Python is used to check if a class is a subclass of another class. It takes two parameters: a class and a potential superclass, and returns True if the first class is indeed a subclass of the second class, otherwise it returns False."
   ]
  },
  {
   "cell_type": "code",
   "execution_count": 10,
   "id": "6b475f8c-2c9b-4b5c-825d-e221c1122108",
   "metadata": {},
   "outputs": [
    {
     "name": "stdout",
     "output_type": "stream",
     "text": [
      "True\n",
      "True\n",
      "False\n"
     ]
    }
   ],
   "source": [
    "class Animal:\n",
    "    pass\n",
    "\n",
    "class Dog(Animal):\n",
    "    pass\n",
    "\n",
    "class Cat(Animal):\n",
    "    pass\n",
    "\n",
    "# Check if Dog is a subclass of Animal\n",
    "print(issubclass(Dog, Animal))\n",
    "\n",
    "# Check if Cat is a subclass of Animal\n",
    "print(issubclass(Cat, Animal))  \n",
    "\n",
    "# Check if Animal is a subclass of Dog (which is not the case)\n",
    "print(issubclass(Animal, Dog)) \n"
   ]
  },
  {
   "cell_type": "markdown",
   "id": "8a2661f5-d929-46d5-8f9b-7ae6757539ee",
   "metadata": {},
   "source": [
    "# 10. Discuss the concept of constructor inheritance in Python. How are constructors inherited in child classes?"
   ]
  },
  {
   "cell_type": "markdown",
   "id": "4781966f-4c26-429d-9771-3bebb646cac0",
   "metadata": {},
   "source": [
    "Constructor inheritance refers to the automatic inheritance of the constructor method (__init__()) from a parent class to its child classes.\n",
    "The constructor is a special method in Python classes that is automatically called when a new instance of the class is created.\n",
    "\n",
    "Constructors are inherited in child classes automatically when the child class is created without its own constructor. If the child class does not define its own __init__() method, Python automatically looks for it in the parent class. If found, the child class implicitly inherits the constructor from the parent class."
   ]
  },
  {
   "cell_type": "code",
   "execution_count": 11,
   "id": "ac8f43dd-e665-4e7a-b6a8-0e5bcda76955",
   "metadata": {},
   "outputs": [
    {
     "name": "stdout",
     "output_type": "stream",
     "text": [
      "10\n",
      "20\n"
     ]
    }
   ],
   "source": [
    "class Parent:\n",
    "    def __init__(self, x):\n",
    "        self.x = x\n",
    "\n",
    "class Child(Parent):\n",
    "    def __init__(self, x, y):\n",
    "        super().__init__(x)\n",
    "        self.y = y\n",
    "\n",
    "child = Child(10, 20)\n",
    "print(child.x)  \n",
    "print(child.y) \n"
   ]
  },
  {
   "cell_type": "markdown",
   "id": "d53ee54c-9c08-403d-a98e-188fe6bc57ea",
   "metadata": {},
   "source": [
    "# 11. Create a Python class called `Shape` with a method `area()` that calculates the area of a shape. Then, create child classes `Circle` and `Rectangle` that inherit from `Shape` and implement the `area()` methodaccordingly. Provide an example."
   ]
  },
  {
   "cell_type": "code",
   "execution_count": 18,
   "id": "6bc3b65c-5d64-45d2-96ac-5b4be32838ab",
   "metadata": {},
   "outputs": [
    {
     "name": "stdout",
     "output_type": "stream",
     "text": [
      "The area of Circle is 78.53981633974483\n",
      "The area of Rectangle is 60\n"
     ]
    }
   ],
   "source": [
    "import math\n",
    "class Shape:\n",
    "    def area(self):\n",
    "        pass\n",
    "\n",
    "class Circle(Shape):\n",
    "    def __init__(self, radius):\n",
    "        self.radius = radius\n",
    "    def area(self):\n",
    "        print(f\"The area of Circle is { math.pi * self.radius**2}\")\n",
    "\n",
    "class Rectangle(Shape):\n",
    "    def __init__(self,length ,width):\n",
    "        self.length = length\n",
    "        self.width = width\n",
    "    def area(self):\n",
    "        print(f\"The area of Rectangle is { self.length*self.width}\")\n",
    "\n",
    "area_of_circle = Circle(radius = 5)\n",
    "area_of_circle.area()\n",
    "\n",
    "area_of_rectangal = Rectangle(length = 12,width = 5)\n",
    "area_of_rectangal.area()"
   ]
  },
  {
   "cell_type": "markdown",
   "id": "a5a608b3-9e8f-4f7f-b809-5a3677269c78",
   "metadata": {},
   "source": [
    "# 12. Explain the use of abstract base classes (ABCs) in Python and how they relate to inheritance. Provide an example using the `abc` module."
   ]
  },
  {
   "cell_type": "markdown",
   "id": "ff47f91c-48f6-4e21-829e-ec91c8abf885",
   "metadata": {},
   "source": [
    "ABCs are used to define a blueprint for a group of related classes, ensuring that all subclasses implement a common set of methods. This helps in designing more maintainable and predictable code by enforcing a contract between classes.\n"
   ]
  },
  {
   "cell_type": "code",
   "execution_count": 19,
   "id": "3833dcd7-1ca1-4693-95f3-08cd6b7eaecf",
   "metadata": {},
   "outputs": [
    {
     "name": "stdout",
     "output_type": "stream",
     "text": [
      "Area of circle: 78.53981633974483\n",
      "Area of rectangle: 24\n"
     ]
    }
   ],
   "source": [
    "from abc import ABC, abstractmethod\n",
    "\n",
    "class Shape(ABC):\n",
    "    @abstractmethod\n",
    "    def area(self):\n",
    "        pass\n",
    "\n",
    "class Circle(Shape):\n",
    "    def __init__(self, radius):\n",
    "        self.radius = radius\n",
    "\n",
    "    def area(self):\n",
    "        return math.pi * self.radius ** 2\n",
    "\n",
    "class Rectangle(Shape):\n",
    "    def __init__(self, width, height):\n",
    "        self.width = width\n",
    "        self.height = height\n",
    "\n",
    "    def area(self):\n",
    "        return self.width * self.height\n",
    "\n",
    "# Creating instances of derived classes\n",
    "circle = Circle(5)\n",
    "rectangle = Rectangle(4, 6)\n",
    "\n",
    "print(\"Area of circle:\", circle.area())      \n",
    "print(\"Area of rectangle:\", rectangle.area())\n"
   ]
  },
  {
   "cell_type": "markdown",
   "id": "6e5531a0-93ce-4547-846b-36f653b5ec70",
   "metadata": {},
   "source": [
    "# 13. How can you prevent a child class from modifying certain attributes or methods inherited from a parent class in Python?"
   ]
  },
  {
   "cell_type": "markdown",
   "id": "0d397ff4-5530-4752-b28a-1f450710b60e",
   "metadata": {},
   "source": [
    "We can prevent a child class from modifying certain attributes or methods inherited from a parent class in python  by using private attrattributes for example "
   ]
  },
  {
   "cell_type": "code",
   "execution_count": 1,
   "id": "72651bb9-074b-457f-b05c-4545c3e8ae21",
   "metadata": {},
   "outputs": [
    {
     "name": "stdout",
     "output_type": "stream",
     "text": [
      "10\n",
      "This is a private method in Parent class\n"
     ]
    }
   ],
   "source": [
    "class Parent:\n",
    "    def __init__(self):\n",
    "        self.__attribute = 10\n",
    "\n",
    "    def __method(self):\n",
    "        print(\"This is a private method in Parent class\")\n",
    "\n",
    "class Child(Parent):\n",
    "    def __init__(self):\n",
    "        super().__init__()\n",
    "        # Attempting to modify the attribute will create a new attribute in the child class\n",
    "        self.__attribute = 20  \n",
    "\n",
    "    # Attempting to override the private method will create a new method in the child class\n",
    "    def __method(self):\n",
    "        print(\"This is a modified private method in Child class\")\n",
    "\n",
    "child = Child()\n",
    "print(child._Parent__attribute)  # Still accessible but not recommended\n",
    "child._Parent__method()  # Still accessible but not recommended\n"
   ]
  },
  {
   "cell_type": "markdown",
   "id": "223a6a26-a229-4f27-9c84-09982be92e04",
   "metadata": {},
   "source": [
    "# 14. Create a Python class called `Employee` with attributes `name` and `salary`. Then, create a child class `Manager` that inherits from `Employee` and adds an attribute `department`. Provide an example.\n"
   ]
  },
  {
   "cell_type": "code",
   "execution_count": 8,
   "id": "6e0778ff-f096-45db-8fb4-6f25b9d26a8c",
   "metadata": {},
   "outputs": [
    {
     "name": "stdout",
     "output_type": "stream",
     "text": [
      " Manager  name :Azman , salary is 200000 department ML Engineer\n",
      "Employee name :Shub and salary is 30000\n"
     ]
    }
   ],
   "source": [
    "class Employee:\n",
    "    def __init__(self,name , salary):\n",
    "        self.name =name\n",
    "        self.salary = salary\n",
    "        \n",
    "class Manager(Employee):\n",
    "    def __init__(self,name,salary, department):\n",
    "        super().__init__(name,salary)\n",
    "        self.department = department\n",
    "        \n",
    "employee1 = Manager(\"Azman\", 200000, department =\"ML Engineer\")\n",
    "print(f\" Manager  name :{employee1.name} , salary is {employee1.salary} department {employee1.department}\")\n",
    "\n",
    "employee2 = Employee(\"Shub\", 30000)\n",
    "print(f\"Employee name :{employee2.name} and salary is {employee2.salary}\" )\n",
    "        "
   ]
  },
  {
   "cell_type": "markdown",
   "id": "2ad81432-d307-43a2-9a70-48e3ae351f68",
   "metadata": {},
   "source": [
    "# 15. Discuss the concept of method overloading in Python inheritance. How does it differ from method overriding?"
   ]
  },
  {
   "cell_type": "markdown",
   "id": "1cde28e2-e082-4316-bc13-4a9fc1e45191",
   "metadata": {},
   "source": [
    "Method overloading refers to the ability to define multiple methods in a class with the same name but with different signatures (i.e., different number or types of parameters). In Python, method overloading is not directly supported as it is in some other languages like Java or C++. We can achieve a similar effect using default parameter values or variable arguments."
   ]
  },
  {
   "cell_type": "code",
   "execution_count": 26,
   "id": "ddcf71a5-0591-4949-9d26-5aa833224fef",
   "metadata": {},
   "outputs": [
    {
     "name": "stdout",
     "output_type": "stream",
     "text": [
      "8\n",
      "5\n"
     ]
    }
   ],
   "source": [
    "class MyClass:\n",
    "    def add(self, x, y=6):\n",
    "        return x + y\n",
    "\n",
    "obj = MyClass()\n",
    "print(obj.add(2))    #(default value of y is used)\n",
    "print(obj.add(2, 3))   \n",
    "\n"
   ]
  },
  {
   "cell_type": "markdown",
   "id": "a3cec7e4-cde1-42e2-9e9c-45f05e962131",
   "metadata": {},
   "source": [
    "Overloading happens when you keep the same method name but change the number or type of parameters. Overriding occurs when you keep the same method name and signature but change the implementation."
   ]
  },
  {
   "cell_type": "markdown",
   "id": "cd21ed6c-7029-4abb-9921-9e03589a7215",
   "metadata": {},
   "source": [
    "# 16. Explain the purpose of the `__init__()` method in Python inheritance and how it is utilized in child classes."
   ]
  },
  {
   "cell_type": "markdown",
   "id": "21a6c8ba-e3ec-46e2-bc00-284583e17258",
   "metadata": {},
   "source": [
    "In inheritance, the __init__() method plays a crucial role in initializing both the attributes of the child class and those inherited from its parent class. When a child class is instantiated, Python automatically calls the __init__() method of the child class if it is defined. If the child class does not have its own __init__() method, Python will look for it in its parent classes, walking up the inheritance chain until it finds one or reaches the top-level object class."
   ]
  },
  {
   "cell_type": "code",
   "execution_count": 30,
   "id": "3dabcfa6-1b4a-4f5f-b901-7d85386fc0d5",
   "metadata": {},
   "outputs": [
    {
     "name": "stdout",
     "output_type": "stream",
     "text": [
      "parent_value\n",
      "child_value\n"
     ]
    }
   ],
   "source": [
    "class Parent:\n",
    "    def __init__(self, parent_attribute):\n",
    "        self.parent_attribute = parent_attribute\n",
    "\n",
    "class Child(Parent):\n",
    "    def __init__(self, parent_attribute, child_attribute):\n",
    "        super().__init__(parent_attribute)  # Calling parent class's __init__() method\n",
    "        self.child_attribute = child_attribute\n",
    "\n",
    "# Creating an instance of Child class\n",
    "child_obj = Child(\"parent_value\", \"child_value\")\n",
    "\n",
    "print(child_obj.parent_attribute)\n",
    "print(child_obj.child_attribute)  \n"
   ]
  },
  {
   "cell_type": "markdown",
   "id": "4839b753-3c3c-4c5a-8f5b-fa3b17dbf73c",
   "metadata": {},
   "source": [
    "# 17. Create a Python class called `Bird` with a method `fly()`. Then, create child classes `Eagle` and `Sparrow` that inherit from `Bird` and implement the `fly()` method differently. Provide an example of using these classes."
   ]
  },
  {
   "cell_type": "code",
   "execution_count": 36,
   "id": "f77414e2-ca0c-4d43-9a97-a9d7e913c122",
   "metadata": {},
   "outputs": [
    {
     "name": "stdout",
     "output_type": "stream",
     "text": [
      "Eagle Fly\n",
      "Sparrow Fly\n"
     ]
    }
   ],
   "source": [
    "class Bird:\n",
    "    def fly(self):\n",
    "        raise NotImplementedError(\"Subclasses must implement fly() method\")\n",
    "class Eagle(Bird):\n",
    "    def fly(self):\n",
    "        print(\"Eagle Fly\")\n",
    "class Sparrow(Bird):\n",
    "    def fly(self):\n",
    "        print(\"Sparrow Fly\")\n",
    "        \n",
    "\n",
    "b2 = Eagle()\n",
    "b2.fly()\n",
    "\n",
    "b3 = Sparrow()\n",
    "b3.fly()"
   ]
  },
  {
   "cell_type": "markdown",
   "id": "66948468-1219-4c0a-b262-6e45f8ef8763",
   "metadata": {},
   "source": [
    "# 18. What is the \"diamond problem\" in multiple inheritance, and how does Python address it?"
   ]
  },
  {
   "cell_type": "markdown",
   "id": "a393934a-9328-44b9-b6cc-ef36b2765166",
   "metadata": {},
   "source": [
    "when a class inherits from two or more classes that have a common ancestor is Called Diamond problem  foer example :\n",
    "###       A\n",
    "\n",
    "###      /   \\\n",
    "\n",
    "###     B     C\n",
    "\n",
    "###      \\   /\n",
    "\n",
    "###       D\n"
   ]
  },
  {
   "cell_type": "code",
   "execution_count": 37,
   "id": "cb043210-2b1e-4c8e-aab4-a08d1ef0c8b0",
   "metadata": {},
   "outputs": [],
   "source": [
    "class A:\n",
    "    def show(self):\n",
    "        print(\"A\")\n",
    "\n",
    "class B(A):\n",
    "    def show(self):\n",
    "        print(\"B\")\n",
    "\n",
    "class C(A):\n",
    "    def show(self):\n",
    "        print(\"C\")\n",
    "\n",
    "class D(B, C):\n",
    "    pass"
   ]
  },
  {
   "cell_type": "markdown",
   "id": "83f5d8b4-40af-434a-b95e-c059e67f2119",
   "metadata": {},
   "source": [
    "# 19. Discuss the concept of \"is-a\" and \"has-a\" relationships in inheritance, and provide examples of each."
   ]
  },
  {
   "cell_type": "markdown",
   "id": "946831a2-75ef-4681-aee4-75c4dccfd7af",
   "metadata": {},
   "source": [
    "The \"is-a\" relationship, also known as generalization or inheritance, describes a relationship between a general category (superclass or parent class) and a more specific category (subclass or child class). It implies that an object of the subclass type is also an object of the superclass type.\n"
   ]
  },
  {
   "cell_type": "code",
   "execution_count": 1,
   "id": "0b18a29b-5723-4177-810e-99427ef04ae6",
   "metadata": {},
   "outputs": [],
   "source": [
    "# example\n",
    "class Vehicle:\n",
    "    def __init__(self, brand, model):\n",
    "        self.brand = brand\n",
    "        self.model = model\n",
    "\n",
    "class Car(Vehicle):\n",
    "    def __init__(self, brand, model, num_doors):\n",
    "        super().__init__(brand, model)\n",
    "        self.num_doors = num_doors\n",
    "\n",
    "class Motorcycle(Vehicle):\n",
    "    def __init__(self, brand, model, has_sidecar):\n",
    "        super().__init__(brand, model)\n",
    "        self.has_sidecar = has_sidecar\n"
   ]
  },
  {
   "cell_type": "markdown",
   "id": "0c8cddbf-5056-4bf6-9d04-34d37c1de9f4",
   "metadata": {},
   "source": [
    "The \"has-a\" relationship refers to the notion that a class has another class as a part of its structure or behavior. This relationship is typically implemented through composition, where one class contains an instance of another class as a member.\n",
    "\n"
   ]
  },
  {
   "cell_type": "code",
   "execution_count": 2,
   "id": "0e8b4eb9-ff8e-4456-8d04-6c57687f2188",
   "metadata": {},
   "outputs": [],
   "source": [
    "class Engine:\n",
    "    def __init__(self, horsepower):\n",
    "        self.horsepower = horsepower\n",
    "\n",
    "class Car:\n",
    "    def __init__(self, brand, model, engine):\n",
    "        self.brand = brand\n",
    "        self.model = model\n",
    "        self.engine = engine\n"
   ]
  },
  {
   "cell_type": "markdown",
   "id": "c73957f4-eff7-46d8-82a5-8f34384978d2",
   "metadata": {},
   "source": [
    "# 20. Create a Python class hierarchy for a university system. Start with a base class `Person` and create child classes `Student` and `Professor`, each with their own attributes and methods. Provide an example of using these classes in a university context."
   ]
  },
  {
   "cell_type": "code",
   "execution_count": 1,
   "id": "6040d7cc-43a4-4fc6-8d28-6e8a3dea09d6",
   "metadata": {},
   "outputs": [
    {
     "name": "stdout",
     "output_type": "stream",
     "text": [
      "Name: Azman Khan, Age: 23, Student ID: S12345\n",
      "Name: Ajey Kumar, Age: 45, Employee ID: P98765, Department: Computer Science\n"
     ]
    }
   ],
   "source": [
    "class Person:\n",
    "    def __init__(self, name, age):\n",
    "        self.name = name\n",
    "        self.age = age\n",
    "\n",
    "    def __str__(self):\n",
    "        return f\"Name: {self.name}, Age: {self.age}\"\n",
    "\n",
    "class Student(Person):\n",
    "    def __init__(self, name, age, student_id):\n",
    "        super().__init__(name, age)\n",
    "        self.student_id = student_id\n",
    "\n",
    "    def __str__(self):\n",
    "        return f\"{super().__str__()}, Student ID: {self.student_id}\"\n",
    "\n",
    "class Professor(Person):\n",
    "    def __init__(self, name, age, employee_id, department):\n",
    "        super().__init__(name, age)\n",
    "        self.employee_id = employee_id\n",
    "        self.department = department\n",
    "\n",
    "    def __str__(self):\n",
    "        return f\"{super().__str__()}, Employee ID: {self.employee_id}, Department: {self.department}\"\n",
    "\n",
    "\n",
    "\n",
    "student1 = Student(\"Azman Khan\", 23, \"S12345\")\n",
    "professor1 = Professor(\"Ajey Kumar\", 45, \"P98765\", \"Computer Science\")\n",
    "\n",
    "print(student1)\n",
    "print(professor1)\n",
    "\n"
   ]
  },
  {
   "cell_type": "markdown",
   "id": "038d1f4e-732f-4a66-9728-7a412248211d",
   "metadata": {},
   "source": [
    "# Encapsulation:"
   ]
  },
  {
   "cell_type": "markdown",
   "id": "d575275f-48b3-4360-9aa9-edb774283127",
   "metadata": {},
   "source": [
    "# 1. Explain the concept of encapsulation in Python. What is its role in object-oriented programming?"
   ]
  },
  {
   "cell_type": "markdown",
   "id": "c7b439e1-1d15-44d0-9056-22b7d2f95c88",
   "metadata": {},
   "source": [
    "It describes the idea of wrapping data and the methods that work on data within one unit. \n",
    "\n",
    "It provides a powerful way to store, hide, and manipulate data while giving you increased control over it.\n",
    "\n",
    "Encapsulation is an important concept in object-oriented programming. It provides a number of benefits, including data protection, code reuse, and code organization."
   ]
  },
  {
   "cell_type": "markdown",
   "id": "eb405434-4377-4c29-ab38-97c9a13148c2",
   "metadata": {},
   "source": [
    "# 2. Describe the key principles of encapsulation, including access control and data hiding."
   ]
  },
  {
   "cell_type": "markdown",
   "id": "59d485bd-7d4c-4c21-92fe-43ce5268131c",
   "metadata": {},
   "source": [
    "Data Hiding: Restricting direct access to an object's data from outside the class, ensuring it's only accessed through controlled methods.\n",
    "\n",
    "Access Control: Specifying the visibility of class members (data and methods) using access specifiers like public, private, and protected, to regulate access within and outside the class.\n",
    "\n",
    "Encapsulation promotes code organization, security, and reusability by hiding implementation details and providing controlled interfaces for interacting with objects."
   ]
  },
  {
   "cell_type": "markdown",
   "id": "147d8be1-b9c1-4002-8a4f-e01514288824",
   "metadata": {},
   "source": [
    "# 3. How can you achieve encapsulation in Python classes? Provide an example."
   ]
  },
  {
   "cell_type": "code",
   "execution_count": 21,
   "id": "d466ca72-ae7b-4d6e-8655-ac7eefbb4273",
   "metadata": {},
   "outputs": [
    {
     "data": {
      "text/plain": [
       "30000"
      ]
     },
     "execution_count": 21,
     "metadata": {},
     "output_type": "execute_result"
    }
   ],
   "source": [
    "class bank :\n",
    "    def __init__(self, acc_no ,balance):\n",
    "        self.acc_no =acc_no\n",
    "        self.__balance = balance # Encapsulated the implimentation of balance \n",
    "#creating a public method to access the balance        \n",
    "    def check_balance (self,password):\n",
    "        if password == \"$%^&*()xyz\":\n",
    "            return self.__balance\n",
    "        else :\n",
    "            return \"Incorrect password\"\n",
    "        \n",
    "acc1 = bank(129883,30000)\n",
    "acc1.check_balance(\"$%^&*()xyz\")\n",
    "    "
   ]
  },
  {
   "cell_type": "markdown",
   "id": "31a55ad2-407e-4fb1-bc7b-fa79ff923a8f",
   "metadata": {},
   "source": [
    "# 4. Discuss the difference between public, private, and protected access modifiers in Python."
   ]
  },
  {
   "cell_type": "markdown",
   "id": "10a06985-b862-4603-9c25-62d5f057b1dc",
   "metadata": {},
   "source": [
    "The difference bw private , public , and protected modifiers are :\n"
   ]
  },
  {
   "cell_type": "code",
   "execution_count": 19,
   "id": "99e22110-7eb5-490b-b06b-c477400ec168",
   "metadata": {},
   "outputs": [
    {
     "name": "stdout",
     "output_type": "stream",
     "text": [
      "10\n"
     ]
    },
    {
     "data": {
      "text/plain": [
       "'This is a public method'"
      ]
     },
     "execution_count": 19,
     "metadata": {},
     "output_type": "execute_result"
    }
   ],
   "source": [
    "# PUBLIC \\ they can be accessed and modified from outside the class.\n",
    "class MyClass:\n",
    "    def __init__(self):\n",
    "        self.public_variable = 10\n",
    "\n",
    "    def public_method(self):\n",
    "        return \"This is a public method\"\n",
    "\n",
    "obj = MyClass()\n",
    "print(obj.public_variable)\n",
    "obj.public_method() \n"
   ]
  },
  {
   "cell_type": "code",
   "execution_count": 22,
   "id": "e8a914f2-c571-425f-8cfd-7c612d331891",
   "metadata": {},
   "outputs": [
    {
     "ename": "AttributeError",
     "evalue": "'MyClass' object has no attribute '__private_variable'",
     "output_type": "error",
     "traceback": [
      "\u001b[0;31m---------------------------------------------------------------------------\u001b[0m",
      "\u001b[0;31mAttributeError\u001b[0m                            Traceback (most recent call last)",
      "Cell \u001b[0;32mIn[22], line 11\u001b[0m\n\u001b[1;32m      9\u001b[0m obj \u001b[38;5;241m=\u001b[39m MyClass()\n\u001b[1;32m     10\u001b[0m \u001b[38;5;66;03m# Attempting to access private variables/methods directly will raise an error\u001b[39;00m\n\u001b[0;32m---> 11\u001b[0m \u001b[38;5;28mprint\u001b[39m(\u001b[43mobj\u001b[49m\u001b[38;5;241;43m.\u001b[39;49m\u001b[43m__private_variable\u001b[49m) \n\u001b[1;32m     12\u001b[0m \u001b[38;5;28mprint\u001b[39m(obj\u001b[38;5;241m.\u001b[39m__private_method()) \n",
      "\u001b[0;31mAttributeError\u001b[0m: 'MyClass' object has no attribute '__private_variable'"
     ]
    }
   ],
   "source": [
    "# PRIVATE / attributes and methods that are intended to be private are prefixed with a double underscore __\n",
    "class MyClass:\n",
    "    def __init__(self):\n",
    "        self.__private_variable = 20\n",
    "\n",
    "    def __private_method(self):\n",
    "        return \"This is a private method\"\n",
    "\n",
    "obj = MyClass()\n",
    "# Attempting to access private variables/methods directly will raise an error\n",
    "print(obj.__private_variable) \n",
    "print(obj.__private_method()) \n"
   ]
  },
  {
   "cell_type": "code",
   "execution_count": 23,
   "id": "bb47dc70-6623-4111-b551-9c7457940ea5",
   "metadata": {},
   "outputs": [
    {
     "name": "stdout",
     "output_type": "stream",
     "text": [
      "30\n",
      "This is a protected method\n"
     ]
    }
   ],
   "source": [
    "# PROTECTED / attributes and methods that are intended to be protected are prefixed with a single underscore _.\n",
    "class MyClass:\n",
    "    def __init__(self):\n",
    "        self._protected_variable = 30\n",
    "\n",
    "    def _protected_method(self):\n",
    "        return \"This is a protected method\"\n",
    "\n",
    "obj = MyClass()\n",
    "# Although not enforced, accessing protected variables/methods directly is discouraged\n",
    "print(obj._protected_variable) \n",
    "print(obj._protected_method())  \n"
   ]
  },
  {
   "cell_type": "markdown",
   "id": "5c18d024-f50c-4dc1-92a3-05441d280940",
   "metadata": {},
   "source": [
    "# 5. Create a Python class called `Person` with a private attribute `__name`. Provide methods to get and set the name attribute."
   ]
  },
  {
   "cell_type": "code",
   "execution_count": 36,
   "id": "b2a276f7-1b1f-4fe8-800a-d9d5158a079d",
   "metadata": {},
   "outputs": [
    {
     "name": "stdout",
     "output_type": "stream",
     "text": [
      "Azman\n",
      "New name is Azman khan\n"
     ]
    }
   ],
   "source": [
    "class Person:\n",
    "    def __init__(self,name):\n",
    "        self.__name = name\n",
    "    def get_name(self):\n",
    "        return self.__name    \n",
    "    def set_name(self, new_name):\n",
    "        self.__name = new_name\n",
    "        \n",
    "t1 = Person('Azman')\n",
    "print(t1.get_name())\n",
    "\n",
    "t1.set_name(\"New name is Azman khan\")\n",
    "print(t1.get_name())"
   ]
  },
  {
   "cell_type": "markdown",
   "id": "1befe73d-c861-46d9-9e0a-85e2af8becd0",
   "metadata": {},
   "source": [
    "# 6. Explain the purpose of getter and setter methods in encapsulation. Provide examples."
   ]
  },
  {
   "cell_type": "markdown",
   "id": "ec11bd1a-e581-402d-b7a8-386b26c66db4",
   "metadata": {},
   "source": [
    "The purpose of getter and setter methods in encapsulation is to provide controlled access to the attributes of a class. Instead of directly accessing or modifying the attributes from outside the class, these methods are used to retrieve (get) or modify (set) the attribute values. This helps in maintaining the integrity of the data and allows for implementing validation or additional logic before accessing or modifying the attribute"
   ]
  },
  {
   "cell_type": "code",
   "execution_count": 37,
   "id": "0f7c9dac-865b-43e6-a017-f0176f6014a3",
   "metadata": {},
   "outputs": [
    {
     "name": "stdout",
     "output_type": "stream",
     "text": [
      "Azman\n",
      "23\n",
      "Azman Khan\n",
      "Age cannot be negative.\n",
      "23\n"
     ]
    }
   ],
   "source": [
    "class Person:\n",
    "    def __init__(self, name, age):\n",
    "        self.__name = name\n",
    "        self.__age = age\n",
    "\n",
    "    def get_name(self):\n",
    "        return self.__name\n",
    "\n",
    "    def set_name(self, new_name):\n",
    "        self.__name = new_name\n",
    "\n",
    "    def get_age(self):\n",
    "        return self.__age\n",
    "\n",
    "    def set_age(self, new_age):\n",
    "        if new_age >= 0:\n",
    "            self.__age = new_age\n",
    "        else:\n",
    "            print(\"Age cannot be negative.\")\n",
    "\n",
    "# Example usage:\n",
    "person = Person(\"Azman\", 23)\n",
    "print(person.get_name())  \n",
    "print(person.get_age())\n",
    "\n",
    "person.set_name(\"Azman Khan\")\n",
    "print(person.get_name())\n",
    "\n",
    "person.set_age(-5)  # Trying to set a negative age\n",
    "print(person.get_age())  # (Age remains unchanged due to validation in setter method)\n"
   ]
  },
  {
   "cell_type": "markdown",
   "id": "d0fecd22-b3cb-4132-9d57-82f284d79bcf",
   "metadata": {},
   "source": [
    "# 7. What is name mangling in Python, and how does it affect encapsulation?"
   ]
  },
  {
   "cell_type": "markdown",
   "id": "b3db761c-8967-446d-808e-1897dcc20e50",
   "metadata": {},
   "source": [
    "Name mangling in Python is a mechanism used to change the name of attributes or methods defined with double underscores (__) in a class.\n",
    "\n",
    "Name mangling affects encapsulation by making it more difficult to access private attributes and methods from outside the class in which they are defined. This helps to protect the data from being modified in unintended ways.\n"
   ]
  },
  {
   "cell_type": "markdown",
   "id": "f5fa6a95-40ca-4e5f-8a38-ff98ead83d3a",
   "metadata": {},
   "source": [
    "# 8. Create a Python class called `BankAccount` with private attributes for the account balance (`__balance`) and account number (`__account_number`).Provide methods for depositing and withdrawing money."
   ]
  },
  {
   "cell_type": "code",
   "execution_count": 19,
   "id": "2c6939bd-0185-412f-bc98-7496b0e80bab",
   "metadata": {},
   "outputs": [
    {
     "name": "stdout",
     "output_type": "stream",
     "text": [
      "The account number 93192 have available balance is 120000\n",
      "The 2000 amount withdrawal from your account\n",
      "The account number 93192 have available balance is 118000\n",
      "The 12200 amount deposited to your account\n",
      "The account number 93192 have available balance is 130200\n"
     ]
    }
   ],
   "source": [
    "class BankAccount:\n",
    "    def __init__(self,balance,account_number):\n",
    "        self.__balance = balance\n",
    "        self.__account_number = account_number\n",
    "        \n",
    "    def withdraw(self,amount_wd):\n",
    "        self.__balance -= amount_wd\n",
    "        return f\"The {amount_wd} amount withdrawal from your account\"\n",
    "    \n",
    "    def deposit(self,amount_dp):\n",
    "        self.__balance += amount_dp\n",
    "        return f\"The {amount_dp} amount deposited to your account\" \n",
    "    \n",
    "    def display_Account(self):\n",
    "        return f\"The account number {self.__account_number} have available balance is {self.__balance}\"\n",
    "    \n",
    "acc1 = BankAccount(120000,93192)\n",
    "print(acc1.display_Account())\n",
    "# withdrawal money from the account \n",
    "print(acc1.withdraw(2000))\n",
    "# printing the balance \n",
    "print(acc1.display_Account())\n",
    "# depositing money to the amount \n",
    "print(acc1.deposit(12200))\n",
    "# printing the available balance\n",
    "print(acc1.display_Account())"
   ]
  },
  {
   "cell_type": "markdown",
   "id": "63097396-994e-4c7f-8adc-e873ea7b772b",
   "metadata": {},
   "source": [
    "# 9. Discuss the advantages of encapsulation in terms of code maintainability and security."
   ]
  },
  {
   "cell_type": "markdown",
   "id": "4a2ff787-c612-402e-89f0-84b2bd7bbcff",
   "metadata": {},
   "source": [
    "Encapsulation enhances code maintainability and security by:\n",
    "\n",
    ">Promoting modularity and separating concerns.\n",
    "\n",
    ">Hiding implementation details to prevent unintended manipulation.\n",
    "\n",
    ">Facilitating code reusability and evolution.\n",
    "\n",
    ">Enhancing security by controlling access to sensitive data and functionality."
   ]
  },
  {
   "cell_type": "markdown",
   "id": "5c386ce7-55e4-4877-93d1-559a25037d5b",
   "metadata": {},
   "source": [
    "# 10. How can you access private attributes in Python? Provide an example demonstrating the use of name mangling."
   ]
  },
  {
   "cell_type": "markdown",
   "id": "8b152873-6586-462f-81fe-5c1654608ab0",
   "metadata": {},
   "source": [
    "To access private attributes in Python, you can use name mangling, which involves prefixing the attribute name with double underscore (__). Here's an example demonstrating the use of name mangling:"
   ]
  },
  {
   "cell_type": "code",
   "execution_count": 1,
   "id": "f231686f-f4cf-4974-829a-c3af1d42e00c",
   "metadata": {},
   "outputs": [
    {
     "name": "stdout",
     "output_type": "stream",
     "text": [
      "42\n",
      "42\n"
     ]
    }
   ],
   "source": [
    "class MyClass:\n",
    "    def __init__(self):\n",
    "        self.__private_attr = 42\n",
    "\n",
    "    def get_private_attr(self):\n",
    "        return self.__private_attr\n",
    "\n",
    "# Create an instance of MyClass\n",
    "obj = MyClass()\n",
    "\n",
    "# Access private attribute using a method\n",
    "print(obj.get_private_attr()) \n",
    "\n",
    "# Trying to access private attribute directly (will result in an AttributeError)\n",
    "# print(obj.__private_attr)  # This line will raise an AttributeError\n",
    "\n",
    "# Access private attribute using name mangling (not recommended, just for demonstration)\n",
    "print(obj._MyClass__private_attr)\n"
   ]
  },
  {
   "cell_type": "markdown",
   "id": "19d94b6e-adf3-4b37-bada-a4351fc235ba",
   "metadata": {},
   "source": [
    "# 11. Create a Python class hierarchy for a school system, including classes for students, teachers, and courses, and implement encapsulation principles to protect sensitive information."
   ]
  },
  {
   "cell_type": "code",
   "execution_count": 24,
   "id": "5de421af-1ee2-4e17-a560-0a9f1859080f",
   "metadata": {},
   "outputs": [
    {
     "name": "stdout",
     "output_type": "stream",
     "text": [
      "Course: Math\n",
      "Teacher: Mr. David\n",
      "\n",
      "Course: Science\n",
      "Teacher: Mrs. Negi\n",
      "\n",
      "Student: Azman Khan\n",
      "Grades:\n",
      "- Math: 90\n",
      "- Science: 85\n",
      "\n",
      "Student: Arshiya Muggal\n",
      "Grades:\n",
      "- Math: 95\n",
      "- Science: 88\n"
     ]
    }
   ],
   "source": [
    "class Person:\n",
    "    def __init__(self, first_name, last_name):\n",
    "        self._first_name = first_name  # Encapsulated attribute\n",
    "        self.last_name = last_name\n",
    "\n",
    "    @property\n",
    "    def full_name(self):\n",
    "        \"\"\"\n",
    "        Returns the full name of the person.\n",
    "        \"\"\"\n",
    "        return f\"{self._first_name} {self.last_name}\"\n",
    "\n",
    "\n",
    "class Student(Person):\n",
    "    \"\"\"\n",
    "    Class representing a student in the school system.\n",
    "    \"\"\"\n",
    "    def __init__(self, first_name, last_name, student_id):\n",
    "        super().__init__(first_name, last_name)\n",
    "        self.student_id = student_id\n",
    "        self._grades = {}  # Encapsulated attribute to store grades\n",
    "\n",
    "    def add_grade(self, course_name, grade):\n",
    "        self._grades[course_name] = grade\n",
    "\n",
    "    def get_grades(self):\n",
    "        \"\"\"\n",
    "        Returns a dictionary of the student's grades.\n",
    "        \"\"\"\n",
    "        return dict(self._grades)  # Return a copy to avoid modifying original data\n",
    "\n",
    "\n",
    "class Teacher(Person):\n",
    "    \"\"\"\n",
    "    Class representing a teacher in the school system.\n",
    "    \"\"\"\n",
    "    def __init__(self, first_name, last_name, subject):\n",
    "        super().__init__(first_name, last_name)\n",
    "        self.subject = subject\n",
    "\n",
    "    def teach_course(self, course):\n",
    "        # Logic for assigning a teacher to a course\n",
    "        pass\n",
    "\n",
    "\n",
    "class Course:\n",
    "    \"\"\"\n",
    "    Class representing a course offered in the school system.\n",
    "    \"\"\"\n",
    "    def __init__(self, course_name , teacher=None):\n",
    "        self.course_name = course_name\n",
    "        self._teacher = teacher  # Encapsulated attribute for assigned teacher\n",
    "\n",
    "    def assign_teacher(self, teacher):\n",
    "        self._teacher = teacher\n",
    "\n",
    "    def get_teacher(self):\n",
    "        \"\"\"\n",
    "        Returns the assigned teacher for the course (can be None).\n",
    "        \"\"\"\n",
    "        return self._teacher\n",
    "\n",
    "    \n",
    "if __name__ == \"__main__\":\n",
    "    # Create instances of students, teachers, and courses\n",
    "    student1 = Student(\"Azman\", \"Khan\", \"S001\")\n",
    "    student2 = Student(\"Arshiya\", \"Muggal\", \"S002\")\n",
    "\n",
    "    teacher1 = Teacher(\"Mr.\", \"David\", \"Math\")\n",
    "    teacher2 = Teacher(\"Mrs.\", \"Negi\", \"Science\")\n",
    "\n",
    "    math_course = Course(\"Math\")\n",
    "    science_course = Course(\"Science\")\n",
    "\n",
    "    # Assign teachers to courses\n",
    "    math_course.assign_teacher(teacher1)\n",
    "    science_course.assign_teacher(teacher2)\n",
    "\n",
    "    # Print course information\n",
    "    print(f\"Course: {math_course.course_name}\")\n",
    "    print(f\"Teacher: {math_course.get_teacher().full_name if math_course.get_teacher() else 'No teacher assigned'}\")\n",
    "\n",
    "    print(f\"\\nCourse: {science_course.course_name}\")\n",
    "    print(f\"Teacher: {science_course.get_teacher().full_name if science_course.get_teacher() else 'No teacher assigned'}\")\n",
    "\n",
    "    # Add grades for students\n",
    "    student1.add_grade(math_course.course_name, 90)\n",
    "    student1.add_grade(science_course.course_name, 85)\n",
    "    student2.add_grade(math_course.course_name, 95)\n",
    "    student2.add_grade(science_course.course_name, 88)\n",
    "\n",
    "    # Print student grades\n",
    "    print(f\"\\nStudent: {student1.full_name}\")\n",
    "    print(\"Grades:\")\n",
    "    for course, grade in student1.get_grades().items():\n",
    "        print(f\"- {course}: {grade}\")\n",
    "\n",
    "    print(f\"\\nStudent: {student2.full_name}\")\n",
    "    print(\"Grades:\")\n",
    "    for course, grade in student2.get_grades().items():\n",
    "        print(f\"- {course}: {grade}\")"
   ]
  },
  {
   "cell_type": "markdown",
   "id": "852721ab-ba27-4af0-b046-c0edf8311f98",
   "metadata": {},
   "source": [
    "# 12. Explain the concept of property decorators in Python and how they relate to encapsulation."
   ]
  },
  {
   "cell_type": "markdown",
   "id": "eb976a72-6d45-480a-b2dc-ae73628908dd",
   "metadata": {},
   "source": [
    "The property decorator is a built-in function that allows defining properties in a class, providing a way to control access to attributes, enabling encapsulation.\n",
    "\n",
    "Property decorators provide a way to implement encapsulation in Python by controlling access to class attributes. By using property decorators, you can define getter and setter methods for attributes, allowing you to enforce constraints, perform validation, or execute additional logic when getting or setting attribute values."
   ]
  },
  {
   "cell_type": "markdown",
   "id": "fa3a0852-ec41-464b-8b63-6ba0dff96a18",
   "metadata": {},
   "source": [
    "# 13. What is data hiding, and why is it important in encapsulation? Provide examples."
   ]
  },
  {
   "cell_type": "markdown",
   "id": "e1bdc72d-328e-459f-820b-cde715274c35",
   "metadata": {},
   "source": [
    "Data hiding, also known as information hiding, is the concept of restricting access to certain parts of an object or class, usually its attributes or methods, from the outside world. \n"
   ]
  },
  {
   "cell_type": "code",
   "execution_count": 26,
   "id": "4ddefde4-d18e-4ebc-aaf2-75f429be069a",
   "metadata": {},
   "outputs": [
    {
     "name": "stdout",
     "output_type": "stream",
     "text": [
      "Initial balance: 1000\n",
      "Balance after deposit: 1500\n",
      "Balance after withdrawal: 1300\n"
     ]
    }
   ],
   "source": [
    "class BankAccount:\n",
    "    def __init__(self, account_number, balance):\n",
    "        self.__account_number = account_number  # Encapsulated attribute\n",
    "        self.__balance = balance  # Encapsulated attribute\n",
    "\n",
    "    def deposit(self, amount):\n",
    "        self.__balance += amount\n",
    "\n",
    "    def withdraw(self, amount):\n",
    "        if amount <= self.__balance:\n",
    "            self.__balance -= amount\n",
    "        else:\n",
    "            print(\"Insufficient funds.\")\n",
    "\n",
    "    def get_balance(self):\n",
    "        return self.__balance\n",
    "\n",
    "\n",
    "# Example usage\n",
    "if __name__ == \"__main__\":\n",
    "    account = BankAccount(\"123456789\", 1000)\n",
    "\n",
    "    # Direct access to encapsulated attribute is discouraged\n",
    "    # print(account._balance)\n",
    "\n",
    "    # Accessing balance through getter method\n",
    "    print(\"Initial balance:\", account.get_balance())\n",
    "\n",
    "    account.deposit(500)\n",
    "    print(\"Balance after deposit:\", account.get_balance())\n",
    "\n",
    "    account.withdraw(200)\n",
    "    print(\"Balance after withdrawal:\", account.get_balance())\n",
    "\n",
    "    # Attempting to access attribute directly raises AttributeError\n",
    "    # print(account._balance)\n"
   ]
  },
  {
   "cell_type": "markdown",
   "id": "fcab9688-f835-44ab-9ea6-3f2cd44c1738",
   "metadata": {},
   "source": [
    "# 14. Create a Python class called `Employee` with private attributes for salary (`__salary`) and employee ID (`__employee_id`). Provide a method to calculate yearly bonuses."
   ]
  },
  {
   "cell_type": "code",
   "execution_count": 38,
   "id": "29f72e5e-6bcb-4714-ac2c-7ecbf7264330",
   "metadata": {},
   "outputs": [
    {
     "name": "stdout",
     "output_type": "stream",
     "text": [
      "Yearly bonus for Employee E001: $5000.00\n",
      "Yearly bonus for Employee E002: $6000.00\n"
     ]
    }
   ],
   "source": [
    "class Employee:\n",
    "    def __init__(self, salary, employee_id):\n",
    "        self.__salary = salary\n",
    "        self.__employee_id = employee_id\n",
    "    \n",
    "    def calculate_yearly_bonus(self, percentage):\n",
    "        \"\"\"\n",
    "        Calculate yearly bonus based on a given percentage of the salary.\n",
    "        \"\"\"\n",
    "        bonus = (percentage / 100) * self.__salary\n",
    "        return bonus\n",
    "\n",
    "# Example usage\n",
    "if __name__ == \"__main__\":\n",
    "    employee1 = Employee(50000, \"E001\")\n",
    "    employee2 = Employee(60000, \"E002\")\n",
    "    \n",
    "    bonus_percentage = 10  # 10% bonus\n",
    "    \n",
    "    yearly_bonus_employee1 = employee1.calculate_yearly_bonus(bonus_percentage)\n",
    "    yearly_bonus_employee2 = employee2.calculate_yearly_bonus(bonus_percentage)\n",
    "    \n",
    "    print(f\"Yearly bonus for Employee {employee1._Employee__employee_id}: ${yearly_bonus_employee1:.2f}\")\n",
    "    print(f\"Yearly bonus for Employee {employee2._Employee__employee_id}: ${yearly_bonus_employee2:.2f}\")\n"
   ]
  },
  {
   "cell_type": "markdown",
   "id": "d648342a-4016-4e2c-92e0-7195f0fb725b",
   "metadata": {},
   "source": [
    "# 15. Discuss the use of accessors and mutators in encapsulation. How do they help maintain control over attribute access?"
   ]
  },
  {
   "cell_type": "markdown",
   "id": "464e5215-18e2-47a3-9957-b108e6847501",
   "metadata": {},
   "source": [
    "\n",
    "Accessors (getters) and mutators (setters) are methods used in encapsulation to control access to the attributes of a class:\n",
    "\n",
    "Accessors retrieve the value of an attribute, providing read-only access.\n",
    "\n",
    "Mutators modify the value of an attribute, providing write-only access.\n",
    "\n",
    "They help maintain control over attribute access by encapsulating the internal state of an object, enforcing validation rules, enforcing constraints, triggering side effects, and ensuring flexibility and maintainability in the code"
   ]
  },
  {
   "cell_type": "markdown",
   "id": "f7fdb1e4-7851-41d7-8925-91c0b7454c7a",
   "metadata": {},
   "source": [
    "#  16. What are the potential drawbacks or disadvantages of using encapsulation in Python?"
   ]
  },
  {
   "cell_type": "markdown",
   "id": "47025362-7240-49fb-9e4a-907a134b3ab3",
   "metadata": {},
   "source": [
    "The potential drawbacks of using encapsulation in Python include increased complexity, additional overhead from getter and setter methods, potential performance issues, limitations on flexibility, debugging challenges, tight coupling between components, increased memory usage, and the inability to completely prevent direct attribute access.\n"
   ]
  },
  {
   "cell_type": "markdown",
   "id": "745b3932-cab4-49b6-b21c-58d0d730913d",
   "metadata": {},
   "source": [
    "# 17. Create a Python class for a library system that encapsulates book information, including titles, authors, and availability status."
   ]
  },
  {
   "cell_type": "code",
   "execution_count": 39,
   "id": "4cc6ffc8-e478-4dcc-963f-9c3189906bc8",
   "metadata": {},
   "outputs": [
    {
     "name": "stdout",
     "output_type": "stream",
     "text": [
      "Title: Harry Potter and the Sorcerer's Stone, Author: J.K. Rowling, Available: Yes\n",
      "Title: To Kill a Mockingbird, Author: Harper Lee, Available: No\n",
      "Book 'Harry Potter and the Sorcerer's Stone' by J.K. Rowling has been checked out.\n",
      "Sorry, 'To Kill a Mockingbird' by Harper Lee is not available.\n",
      "Book 'Harry Potter and the Sorcerer's Stone' by J.K. Rowling has been checked in.\n",
      "Book 'To Kill a Mockingbird' by Harper Lee has been checked in.\n",
      "Title: Harry Potter and the Sorcerer's Stone, Author: J.K. Rowling, Available: Yes\n",
      "Title: To Kill a Mockingbird, Author: Harper Lee, Available: Yes\n"
     ]
    }
   ],
   "source": [
    "class Book:\n",
    "    def __init__(self, title, author, available=True):\n",
    "        self.title = title\n",
    "        self.author = author\n",
    "        self.available = available\n",
    "\n",
    "    def check_out(self):\n",
    "        if self.available:\n",
    "            self.available = False\n",
    "            print(f\"Book '{self.title}' by {self.author} has been checked out.\")\n",
    "        else:\n",
    "            print(f\"Sorry, '{self.title}' by {self.author} is not available.\")\n",
    "\n",
    "    def check_in(self):\n",
    "        if not self.available:\n",
    "            self.available = True\n",
    "            print(f\"Book '{self.title}' by {self.author} has been checked in.\")\n",
    "        else:\n",
    "            print(f\"'{self.title}' by {self.author} is already available.\")\n",
    "\n",
    "    def __str__(self):\n",
    "        return f\"Title: {self.title}, Author: {self.author}, Available: {'Yes' if self.available else 'No'}\"\n",
    "\n",
    "if __name__ == \"__main__\":\n",
    "    book1 = Book(\"Harry Potter and the Sorcerer's Stone\", \"J.K. Rowling\")\n",
    "    book2 = Book(\"To Kill a Mockingbird\", \"Harper Lee\", False)\n",
    "\n",
    "    print(book1)\n",
    "    print(book2)\n",
    "\n",
    "    book1.check_out()\n",
    "    book2.check_out()\n",
    "\n",
    "    book1.check_in()\n",
    "    book2.check_in()\n",
    "\n",
    "    print(book1)\n",
    "    print(book2)\n"
   ]
  },
  {
   "cell_type": "markdown",
   "id": "223e1694-9643-4bab-9fdf-c3fe692c4cb7",
   "metadata": {},
   "source": [
    "# 18. Explain how encapsulation enhances code reusability and modularity in Python programs.\n"
   ]
  },
  {
   "cell_type": "markdown",
   "id": "4d887dc9-0c20-4591-8e96-75bb890794f4",
   "metadata": {},
   "source": [
    "Encapsulation enhances code reusability and modularity in Python programs by promoting abstraction, hiding implementation details, and encapsulating dependencies. It allows components to be reused across different contexts without exposing their internal workings, leading to more maintainable, scalable, and flexible codebases. Additionally, encapsulation facilitates modular design by breaking down complex systems into smaller, self-contained components with well-defined interfaces."
   ]
  },
  {
   "cell_type": "markdown",
   "id": "4d2757d6-59d9-4d47-85d4-68323c47e62a",
   "metadata": {},
   "source": [
    "# 19. Describe the concept of information hiding in encapsulation. Why is it essential in software development?"
   ]
  },
  {
   "cell_type": "markdown",
   "id": "10346b15-5379-458d-9323-5b88c6cce1c0",
   "metadata": {},
   "source": [
    "Information hiding in encapsulation involves hiding the internal details of a class or module and exposing only essential interfaces for interaction. It is essential in software development to manage complexity, improve maintainability, enhance security, promote reusability, and enforce encapsulation"
   ]
  },
  {
   "cell_type": "markdown",
   "id": "2e17030a-a1dd-4c4c-81a9-48d07cd1d524",
   "metadata": {},
   "source": [
    "# 20. Create a Python class called `Customer` with private attributes for customer details like name, address, and contact information. Implement encapsulation to ensure data integrity and security."
   ]
  },
  {
   "cell_type": "code",
   "execution_count": 43,
   "id": "e82113e4-a2b8-4120-996b-c8a633c715dc",
   "metadata": {},
   "outputs": [
    {
     "name": "stdout",
     "output_type": "stream",
     "text": [
      "Customer Name: Azman khan\n",
      "Customer Address: 159/185 Allahabad India\n",
      "Customer Contact Information: Azmankhan@gmail.com\n",
      "\n",
      "Updated Customer Name: Arshi khan\n",
      "Updated Customer Address: 134/165 Allahabad India \n",
      "Updated Customer Contact Information: Arshikhan@gmail.com\n"
     ]
    }
   ],
   "source": [
    "class Customer:\n",
    "    def __init__(self, name, address, contact_info):\n",
    "        self.__name = name  # Private attribute for customer name\n",
    "        self.__address = address  # Private attribute for customer address\n",
    "        self.__contact_info = contact_info  # Private attribute for customer contact information\n",
    "\n",
    "    # Getter methods to access private attributes\n",
    "    def get_name(self):\n",
    "        return self.__name\n",
    "\n",
    "    def get_address(self):\n",
    "        return self.__address\n",
    "\n",
    "    def get_contact_info(self):\n",
    "        return self.__contact_info\n",
    "\n",
    "    # Setter methods to modify private attributes\n",
    "    def set_name(self, name):\n",
    "        self.__name = name\n",
    "\n",
    "    def set_address(self, address):\n",
    "        self.__address = address\n",
    "\n",
    "    def set_contact_info(self, contact_info):\n",
    "        self.__contact_info = contact_info\n",
    "\n",
    "if __name__ == \"__main__\":\n",
    "    # Create a customer instance\n",
    "    customer1 = Customer(\"Azman khan\", \"159/185 Allahabad India\", \"Azmankhan@gmail.com\")\n",
    "\n",
    "    # Accessing customer details using getter methods\n",
    "    print(\"Customer Name:\", customer1.get_name())\n",
    "    print(\"Customer Address:\", customer1.get_address())\n",
    "    print(\"Customer Contact Information:\", customer1.get_contact_info())\n",
    "\n",
    "    # Modifying customer details using setter methods\n",
    "    customer1.set_name(\"Arshi khan\")\n",
    "    customer1.set_address(\"134/165 Allahabad India \")\n",
    "    customer1.set_contact_info(\"Arshikhan@gmail.com\")\n",
    "\n",
    "    # Printing updated customer details\n",
    "    print(\"\\nUpdated Customer Name:\", customer1.get_name())\n",
    "    print(\"Updated Customer Address:\", customer1.get_address())\n",
    "    print(\"Updated Customer Contact Information:\", customer1.get_contact_info())\n"
   ]
  },
  {
   "cell_type": "markdown",
   "id": "d993b5ac-c2c2-4c27-98ed-7f764248cb1b",
   "metadata": {},
   "source": [
    "# Polymorphism:"
   ]
  },
  {
   "cell_type": "markdown",
   "id": "b805c7b9-58a3-4b12-a602-032040bb3111",
   "metadata": {},
   "source": [
    "# 1. What is polymorphism in Python? Explain how it is related to object-oriented programming."
   ]
  },
  {
   "cell_type": "markdown",
   "id": "8ba41adf-4a44-40be-b583-888d007be8ae",
   "metadata": {},
   "source": [
    "Polmorphism is the same thing which behave differently.\n",
    "\n",
    "Polymorphism is a key principle in object-oriented programming, facilitating code reusability, maintainability, and flexibility."
   ]
  },
  {
   "cell_type": "markdown",
   "id": "9d01f27a-6fc8-4a6c-9d54-df4bcede86b0",
   "metadata": {},
   "source": [
    "# 2. Describe the difference between compile-time polymorphism and runtime polymorphism in Python."
   ]
  },
  {
   "cell_type": "markdown",
   "id": "fb23063a-6a10-461f-a0cb-fd37188e1410",
   "metadata": {},
   "source": [
    "Compile-time Polymorphism (Static Binding or Method Overloading): Involves method overloading, where multiple methods can have the same name but different parameters. The specific method to be called is determined by the compiler based on the number and types of arguments provided at compile time. Python does not support traditional method overloading like some other languages.\n",
    "\n",
    "Runtime Polymorphism (Dynamic Binding or Method Overriding): Involves method overriding, where a subclass provides a specific implementation of a method that is already defined in its superclass. The method to be executed is dynamically determined at runtime based on the actual type of the object. This allows for flexible and polymorphic behavior in Python programs.\n",
    "\n",
    "\n",
    "\n",
    "\n"
   ]
  },
  {
   "cell_type": "markdown",
   "id": "67c018ae-0ab9-4b7d-91fc-100c20c81173",
   "metadata": {},
   "source": [
    "# 3. Create a Python class hierarchy for shapes (e.g., circle, square, triangle) and demonstrate polymorphism through a common method, such as `calculate_area()`."
   ]
  },
  {
   "cell_type": "code",
   "execution_count": 2,
   "id": "e0cf338b-a161-48fc-b8ad-d522e96f4aee",
   "metadata": {},
   "outputs": [
    {
     "name": "stdout",
     "output_type": "stream",
     "text": [
      "Area of circle: 78.53981633974483\n",
      "Area of square: 100\n",
      "Area of triangle: 24.0\n"
     ]
    }
   ],
   "source": [
    "import math\n",
    "\n",
    "class Shape:\n",
    "    def __init__(self):\n",
    "        pass\n",
    "\n",
    "    def calculate_area(self):\n",
    "        # This method is meant to be overridden by subclasses\n",
    "        raise NotImplementedError(\"Subclasses must implement calculate_area()\")\n",
    "\n",
    "class Circle(Shape):\n",
    "    def __init__(self, radius):\n",
    "        super().__init__()\n",
    "        self.radius = radius\n",
    "\n",
    "    def calculate_area(self):\n",
    "        return math.pi * self.radius ** 2\n",
    "\n",
    "class Square(Shape):\n",
    "    def __init__(self, side_length):\n",
    "        super().__init__()\n",
    "        self.side_length = side_length\n",
    "\n",
    "    def calculate_area(self):\n",
    "        return self.side_length ** 2\n",
    "\n",
    "class Triangle(Shape):\n",
    "    def __init__(self, base, height):\n",
    "        super().__init__()\n",
    "        self.base = base\n",
    "        self.height = height\n",
    "\n",
    "    def calculate_area(self):\n",
    "        return 0.5 * self.base * self.height\n",
    "\n",
    "# Example usage:\n",
    "circle = Circle(5)\n",
    "square = Square(10)\n",
    "triangle = Triangle(6, 8)\n",
    "\n",
    "print(\"Area of circle:\", circle.calculate_area())\n",
    "print(\"Area of square:\", square.calculate_area())    \n",
    "print(\"Area of triangle:\", triangle.calculate_area())  \n"
   ]
  },
  {
   "cell_type": "markdown",
   "id": "2aedc05b-cbe5-41ed-ade9-b381e6a609bb",
   "metadata": {},
   "source": [
    "# 4. Explain the concept of method overriding in polymorphism. Provide an example."
   ]
  },
  {
   "cell_type": "markdown",
   "id": "2d98b810-b0e0-4de0-9eb3-6fe43fb2a47e",
   "metadata": {},
   "source": [
    "The concept of method overriding  in achieving polymorphism, which allows objects of different classes to be treated as objects of a common superclass. When a method is called on an object reference, the actual method that gets executed is determined by the type of the object at runtime. This enables more flexibility and extensibility in the code."
   ]
  },
  {
   "cell_type": "code",
   "execution_count": 1,
   "id": "042be815-734e-4f71-95cd-8d93b429edc1",
   "metadata": {},
   "outputs": [
    {
     "name": "stdout",
     "output_type": "stream",
     "text": [
      "This will give the detail of big data\n",
      "this will give me the detail abut data science\n"
     ]
    }
   ],
   "source": [
    "class pwskills:\n",
    "    def student(self):\n",
    "        pass\n",
    "class datascience(pwskills):\n",
    "    def student(self):\n",
    "        print(\"this will give me the detail abut data science\")\n",
    "\n",
    "class bigdata(pwskills):\n",
    "    def student(self):\n",
    "        print(\"This will give the detail of big data\")\n",
    "\n",
    "yash = bigdata()\n",
    "twinkle = datascience()\n",
    "yash.student()\n",
    "twinkle.student()"
   ]
  },
  {
   "cell_type": "markdown",
   "id": "d893d880-f02c-4260-a7c0-c42391707478",
   "metadata": {},
   "source": [
    "# 5. How is polymorphism different from method overloading in Python? Provide examples for both."
   ]
  },
  {
   "cell_type": "markdown",
   "id": "547747a0-5f00-44fa-9915-337e590bb26c",
   "metadata": {},
   "source": [
    "Polymorphism in Python refers to the ability of different objects to respond to the same method call in different ways.\n",
    "\n",
    "Method overloading refers to defining multiple methods with the same name in a class, but with different numbers or types of parameters. "
   ]
  },
  {
   "cell_type": "code",
   "execution_count": 2,
   "id": "50882750-c82c-46f1-9392-8004097c970f",
   "metadata": {},
   "outputs": [
    {
     "name": "stdout",
     "output_type": "stream",
     "text": [
      "Woof!\n",
      "Meow!\n"
     ]
    }
   ],
   "source": [
    "class Animal:\n",
    "    def make_sound(self):\n",
    "        pass\n",
    "\n",
    "class Dog(Animal):\n",
    "    def make_sound(self):\n",
    "        return \"Woof!\"\n",
    "\n",
    "class Cat(Animal):\n",
    "    def make_sound(self):\n",
    "        return \"Meow!\"\n",
    "\n",
    "# Polymorphic behavior\n",
    "animals = [Dog(), Cat()]\n",
    "for animal in animals:\n",
    "    print(animal.make_sound())\n",
    "\n",
    "    "
   ]
  },
  {
   "cell_type": "code",
   "execution_count": 5,
   "id": "7c84a0c4-2912-4700-a265-d9daf4d11884",
   "metadata": {},
   "outputs": [
    {
     "ename": "TypeError",
     "evalue": "Calculator.add() missing 1 required positional argument: 'z'",
     "output_type": "error",
     "traceback": [
      "\u001b[0;31m---------------------------------------------------------------------------\u001b[0m",
      "\u001b[0;31mTypeError\u001b[0m                                 Traceback (most recent call last)",
      "Cell \u001b[0;32mIn[5], line 11\u001b[0m\n\u001b[1;32m      9\u001b[0m \u001b[38;5;66;03m# Only the last defined method is considered\u001b[39;00m\n\u001b[1;32m     10\u001b[0m calc \u001b[38;5;241m=\u001b[39m Calculator()\n\u001b[0;32m---> 11\u001b[0m \u001b[38;5;28mprint\u001b[39m(\u001b[43mcalc\u001b[49m\u001b[38;5;241;43m.\u001b[39;49m\u001b[43madd\u001b[49m\u001b[43m(\u001b[49m\u001b[38;5;241;43m2\u001b[39;49m\u001b[43m,\u001b[49m\u001b[43m \u001b[49m\u001b[38;5;241;43m3\u001b[39;49m\u001b[43m)\u001b[49m)      \u001b[38;5;66;03m# This will raise an error\u001b[39;00m\n\u001b[1;32m     12\u001b[0m \u001b[38;5;28mprint\u001b[39m(calc\u001b[38;5;241m.\u001b[39madd(\u001b[38;5;241m2\u001b[39m, \u001b[38;5;241m3\u001b[39m, \u001b[38;5;241m4\u001b[39m))   \n",
      "\u001b[0;31mTypeError\u001b[0m: Calculator.add() missing 1 required positional argument: 'z'"
     ]
    }
   ],
   "source": [
    "# Here's an example to illustrate method overloading in Python:\n",
    "class Calculator:\n",
    "    def add(self, x, y):\n",
    "        return x + y\n",
    "    \n",
    "    def add(self, x, y, z):\n",
    "        return x + y + z\n",
    "\n",
    "# Only the last defined method is considered\n",
    "calc = Calculator()\n",
    "print(calc.add(2, 3))      # This will raise an error\n",
    "print(calc.add(2, 3, 4))   \n"
   ]
  },
  {
   "cell_type": "markdown",
   "id": "542a1337-1ce2-424b-8345-70e8ad263ca2",
   "metadata": {},
   "source": [
    "# 6. Create a Python class called `Animal` with a method `speak()`. Then, create child classes like `Dog`, `Cat`, and `Bird`, each with their own `speak()` method. Demonstrate polymorphism by calling the `speak()` method on objects of different subclasses."
   ]
  },
  {
   "cell_type": "code",
   "execution_count": 8,
   "id": "9b3968fa-8803-4140-9996-5c35ca2b7b28",
   "metadata": {},
   "outputs": [
    {
     "name": "stdout",
     "output_type": "stream",
     "text": [
      "Woof\n",
      "Meow\n",
      "tweet\n"
     ]
    }
   ],
   "source": [
    "class Animal:\n",
    "    def speak(self):\n",
    "        pass\n",
    "        \n",
    "class Dog(Animal):\n",
    "    def speak(self):\n",
    "        return \"Woof\"\n",
    "    \n",
    "class Cat(Animal):\n",
    "    def speak(self):\n",
    "        return \"Meow\"\n",
    "    \n",
    "class Bird(Animal):\n",
    "    def speak(self):\n",
    "        return \"tweet\"\n",
    "    \n",
    "animals = [Dog() , Cat() , Bird()]\n",
    "for animal in animals:\n",
    "    print(animal.speak())"
   ]
  },
  {
   "cell_type": "markdown",
   "id": "d12c0c2b-cb70-4813-a1d5-36fa5b8418f4",
   "metadata": {},
   "source": [
    "# 7. Discuss the use of abstract methods and classes in achieving polymorphism in Python. Provide an example using the `abc` module."
   ]
  },
  {
   "cell_type": "markdown",
   "id": "ba462a7b-2ae2-4f09-9ae7-264dcf2b687a",
   "metadata": {},
   "source": [
    "Abstract methods and classes in Python are useful for defining a common interface that subclasses must implement. This is particularly helpful in achieving polymorphism because it ensures that different classes can be treated interchangeably if they adhere to the same interface. "
   ]
  },
  {
   "cell_type": "code",
   "execution_count": 10,
   "id": "9686f72b-b2ea-4106-ba7c-9bf04bbb6b7f",
   "metadata": {},
   "outputs": [
    {
     "name": "stdout",
     "output_type": "stream",
     "text": [
      "Woof!\n",
      "Meow!\n",
      "Tweet!\n"
     ]
    }
   ],
   "source": [
    "from abc import ABC, abstractmethod\n",
    "\n",
    "class Animal(ABC):\n",
    "    @abstractmethod\n",
    "    def speak(self):\n",
    "        pass\n",
    "\n",
    "class Dog(Animal):\n",
    "    def speak(self):\n",
    "        return \"Woof!\"\n",
    "\n",
    "class Cat(Animal):\n",
    "    def speak(self):\n",
    "        return \"Meow!\"\n",
    "\n",
    "class Bird(Animal):\n",
    "    def speak(self):\n",
    "        return \"Tweet!\"\n",
    "\n",
    "# Polymorphic behavior\n",
    "animals = [Dog(), Cat(), Bird()]\n",
    "for animal in animals:\n",
    "    print(animal.speak())\n"
   ]
  },
  {
   "cell_type": "markdown",
   "id": "9412cac6-7125-416d-8ee0-c8734f2419b3",
   "metadata": {},
   "source": [
    "# 8. Create a Python class hierarchy for a vehicle system (e.g., car, bicycle, boat) and implement a polymorphic `start()` method that prints a message specific to each vehicle type."
   ]
  },
  {
   "cell_type": "code",
   "execution_count": 1,
   "id": "e0fe75ba-a936-4514-a5da-76dfa6038260",
   "metadata": {},
   "outputs": [
    {
     "name": "stdout",
     "output_type": "stream",
     "text": [
      "Starting the Toyota Corolla car.\n",
      "Pedaling the Giant Defy bicycle.\n",
      "Starting the engine of Yamaha Speedster boat.\n"
     ]
    }
   ],
   "source": [
    "class Vehicle:\n",
    "    def __init__(self, brand, model):\n",
    "        self.brand = brand\n",
    "        self.model = model\n",
    "\n",
    "    def start(self):\n",
    "        raise NotImplementedError(\"start() method must be implemented in subclasses\")\n",
    "\n",
    "\n",
    "class Car(Vehicle):\n",
    "    def __init__(self, brand, model):\n",
    "        super().__init__(brand, model)\n",
    "\n",
    "    def start(self):\n",
    "        return f\"Starting the {self.brand} {self.model} car.\"\n",
    "\n",
    "\n",
    "class Bicycle(Vehicle):\n",
    "    def __init__(self, brand, model):\n",
    "        super().__init__(brand, model)\n",
    "\n",
    "    def start(self):\n",
    "        return f\"Pedaling the {self.brand} {self.model} bicycle.\"\n",
    "\n",
    "\n",
    "class Boat(Vehicle):\n",
    "    def __init__(self, brand, model):\n",
    "        super().__init__(brand, model)\n",
    "\n",
    "    def start(self):\n",
    "        return f\"Starting the engine of {self.brand} {self.model} boat.\"\n",
    "\n",
    "car = Car(\"Toyota\", \"Corolla\")\n",
    "print(car.start())\n",
    "\n",
    "bike = Bicycle(\"Giant\", \"Defy\")\n",
    "print(bike.start())\n",
    "\n",
    "boat = Boat(\"Yamaha\", \"Speedster\")\n",
    "print(boat.start())\n"
   ]
  },
  {
   "cell_type": "markdown",
   "id": "47e20c56-7de8-480e-80a1-8f0ab58c6e53",
   "metadata": {},
   "source": [
    "# 9. Explain the significance of the `isinstance()` and `issubclass()` functions in Python polymorphism."
   ]
  },
  {
   "cell_type": "markdown",
   "id": "f7efe932-d2c6-46e4-9c70-e2cab6547da0",
   "metadata": {},
   "source": [
    "isinstance() and issubclass() are two important functions in Python that play a significant role in polymorphism:\n",
    "\n",
    "isinstance() function:\n",
    "isinstance(object, class_or_tuple): Returns True if the object is an instance of the specified class or any of the classes in the tuple (if provided), otherwise returns False.\n",
    "\n",
    "Significance:\n",
    "It allows you to check if an object belongs to a particular class or any of its subclasses.\n",
    "\n",
    "issubclass() function:\n",
    "issubclass(class, classinfo): Returns True if the class is a subclass of classinfo, or if class is the same class as classinfo, or if classinfo is a tuple of classes and class is a subclass of any of the classes in classinfo. Otherwise, it returns False.\n",
    "\n",
    "Significance:\n",
    "It helps to check the inheritance relationship between classes. "
   ]
  },
  {
   "cell_type": "markdown",
   "id": "d1305f16-e5ab-483c-a721-0cff04a0e8f9",
   "metadata": {},
   "source": [
    "# 10. What is the role of the `@abstractmethod` decorator in achieving polymorphism in Python? Provide an example."
   ]
  },
  {
   "cell_type": "markdown",
   "id": "bf646439-6e4f-41a1-ac05-a649e31d4119",
   "metadata": {},
   "source": [
    "The @abstractmethod decorator is part of the abc (Abstract Base Classes) module in Python. It allows you to define abstract methods within abstract base classes, ensuring that subclasses must implement these methods"
   ]
  },
  {
   "cell_type": "code",
   "execution_count": 2,
   "id": "88c482bf-5edc-4f02-8932-1f76bd30a43c",
   "metadata": {},
   "outputs": [
    {
     "name": "stdout",
     "output_type": "stream",
     "text": [
      "Woof!\n",
      "Meow!\n",
      "Moo!\n"
     ]
    }
   ],
   "source": [
    "from abc import ABC, abstractmethod\n",
    "\n",
    "class Animal(ABC):\n",
    "    @abstractmethod\n",
    "    def sound(self):\n",
    "        pass\n",
    "\n",
    "class Dog(Animal):\n",
    "    def sound(self):\n",
    "        return \"Woof!\"\n",
    "\n",
    "class Cat(Animal):\n",
    "    def sound(self):\n",
    "        return \"Meow!\"\n",
    "\n",
    "class Cow(Animal):\n",
    "    def sound(self):\n",
    "        return \"Moo!\"\n",
    "\n",
    "# Function that takes any animal and makes it produce sound\n",
    "def make_sound(animal):\n",
    "    return animal.sound()\n",
    "\n",
    "# Usage\n",
    "dog = Dog()\n",
    "cat = Cat()\n",
    "cow = Cow()\n",
    "\n",
    "print(make_sound(dog))  \n",
    "print(make_sound(cat))  \n",
    "print(make_sound(cow))  \n"
   ]
  },
  {
   "cell_type": "markdown",
   "id": "84c2df4d-d5b4-4640-9271-3127c847bd89",
   "metadata": {},
   "source": [
    "# 11. Create a Python class called `Shape` with a polymorphic method `area()` that calculates the area of different shapes (eg circle, recatngle , triangle)\n"
   ]
  },
  {
   "cell_type": "code",
   "execution_count": 3,
   "id": "4b79246b-8d79-4949-af1f-a3f99e9aa0a6",
   "metadata": {},
   "outputs": [
    {
     "name": "stdout",
     "output_type": "stream",
     "text": [
      "Area of circle: 78.53981633974483\n",
      "Area of rectangle: 24\n",
      "Area of triangle: 12.0\n"
     ]
    }
   ],
   "source": [
    "import math\n",
    "\n",
    "class Shape:\n",
    "    def area(self):\n",
    "        raise NotImplementedError(\"area() method must be implemented in subclasses\")\n",
    "\n",
    "class Circle(Shape):\n",
    "    def __init__(self, radius):\n",
    "        self.radius = radius\n",
    "\n",
    "    def area(self):\n",
    "        return math.pi * self.radius**2\n",
    "\n",
    "class Rectangle(Shape):\n",
    "    def __init__(self, width, height):\n",
    "        self.width = width\n",
    "        self.height = height\n",
    "\n",
    "    def area(self):\n",
    "        return self.width * self.height\n",
    "\n",
    "class Triangle(Shape):\n",
    "    def __init__(self, base, height):\n",
    "        self.base = base\n",
    "        self.height = height\n",
    "\n",
    "    def area(self):\n",
    "        return 0.5 * self.base * self.height\n",
    "\n",
    "circle = Circle(5)\n",
    "print(\"Area of circle:\", circle.area())\n",
    "\n",
    "rectangle = Rectangle(4, 6)\n",
    "print(\"Area of rectangle:\", rectangle.area())\n",
    "\n",
    "triangle = Triangle(3, 8)\n",
    "print(\"Area of triangle:\", triangle.area())\n"
   ]
  },
  {
   "cell_type": "markdown",
   "id": "5f4920d6-f20c-46d3-926d-05b8068544d9",
   "metadata": {},
   "source": [
    "# 12. Discuss the benefits of polymorphism in terms of code reusability and flexibility in Python programs."
   ]
  },
  {
   "cell_type": "markdown",
   "id": "fb3a19f5-689e-475c-8496-c4494c150a5c",
   "metadata": {},
   "source": [
    "Polymorphism offers several benefits in terms of code reusability and flexibility in Python programs.\n",
    "Code Reusability: Enables the reuse of code across different objects by defining common interfaces or behaviors.\n",
    "\n",
    "Flexibility: Allows objects of different types to be treated uniformly through a shared interface, promoting extensibility and adaptability.\n",
    "\n",
    "Simplified Code Maintenance: Reduces redundancy and promotes consistency, making it easier to maintain and modify code.\n",
    "\n",
    "Enhanced Readability and Understandability: Emphasizes high-level concepts and interactions, improving code readability and comprehension.\n",
    "\n",
    "Support for Abstraction and Encapsulation: Encourages the use of abstraction and encapsulation, facilitating better modularization and adherence to object-oriented principles.\n",
    "\n",
    "\n",
    "\n"
   ]
  },
  {
   "cell_type": "markdown",
   "id": "02b57d49-be0d-46f7-91a0-113450de2f20",
   "metadata": {},
   "source": [
    "# 13. Explain the use of the `super()` function in Python polymorphism. How does it help call methods of parent classes?"
   ]
  },
  {
   "cell_type": "markdown",
   "id": "3313cb9d-f86a-47fe-ae3c-6a6ce54c35fd",
   "metadata": {},
   "source": [
    "The super() function helps call methods of parent classes by providing a reference to the superclass, allowing access to its methods and attributes. When invoked within a subclass method, super() resolves the appropriate method from the superclass, enabling the subclass to invoke and extend the behavior of the parent class method. This promotes code reuse, maintains proper method resolution order, and facilitates polymorphic behavior."
   ]
  },
  {
   "cell_type": "markdown",
   "id": "6162816e-63a2-4e07-a2f0-c9e18d3eaa1b",
   "metadata": {},
   "source": [
    "# 14. Create a Python class hierarchy for a banking system with various account types (e.g., savings, checking, credit card) and demonstrate polymorphism by implementin a comman withdraw() method"
   ]
  },
  {
   "cell_type": "code",
   "execution_count": 5,
   "id": "81b585a1-9514-4be8-8bcf-f0b08cbb65a1",
   "metadata": {},
   "outputs": [
    {
     "name": "stdout",
     "output_type": "stream",
     "text": [
      "Withdrawal successful. Remaining balance: 500\n",
      "Insufficient funds\n",
      "Insufficient funds\n"
     ]
    }
   ],
   "source": [
    "class Account:\n",
    "    def __init__(self, account_number, balance):\n",
    "        self.account_number = account_number\n",
    "        self.balance = balance\n",
    "\n",
    "    def withdraw(self, amount):\n",
    "        if amount <= 0:\n",
    "            return \"Invalid amount\"\n",
    "        elif amount > self.balance:\n",
    "            return \"Insufficient funds\"\n",
    "        else:\n",
    "            self.balance -= amount\n",
    "            return f\"Withdrawal successful. Remaining balance: {self.balance}\"\n",
    "\n",
    "\n",
    "class SavingsAccount(Account):\n",
    "    def __init__(self, account_number, balance, interest_rate):\n",
    "        super().__init__(account_number, balance)\n",
    "        self.interest_rate = interest_rate\n",
    "\n",
    "    # Additional methods specific to SavingsAccount\n",
    "\n",
    "\n",
    "class CheckingAccount(Account):\n",
    "    def __init__(self, account_number, balance, overdraft_limit):\n",
    "        super().__init__(account_number, balance)\n",
    "        self.overdraft_limit = overdraft_limit\n",
    "\n",
    "    # Additional methods specific to CheckingAccount\n",
    "\n",
    "\n",
    "class CreditCardAccount(Account):\n",
    "    def __init__(self, account_number, balance, credit_limit):\n",
    "        super().__init__(account_number, balance)\n",
    "        self.credit_limit = credit_limit\n",
    "\n",
    "    # Additional methods specific to CreditCardAccount\n",
    "\n",
    "\n",
    "savings_account = SavingsAccount(\"SA123\", 1000, 0.02)\n",
    "print(savings_account.withdraw(500)) \n",
    "\n",
    "checking_account = CheckingAccount(\"CA456\", 2000, 100)\n",
    "print(checking_account.withdraw(2500))\n",
    "\n",
    "credit_card_account = CreditCardAccount(\"CC789\", 500, 1000)\n",
    "print(credit_card_account.withdraw(700))\n"
   ]
  },
  {
   "cell_type": "markdown",
   "id": "363f8c47-6cab-4091-b98b-dfd33bf4690a",
   "metadata": {},
   "source": [
    "# 15. Describe the concept of operator overloading in Python and how it relates to polymorphism. Provide examples using operators like `+` and `*`."
   ]
  },
  {
   "cell_type": "markdown",
   "id": "290d4357-688e-4b09-8c97-2461b6cf0f48",
   "metadata": {},
   "source": [
    "This allows objects of a class to interact with these operators in a way that makes sense for the specific context"
   ]
  },
  {
   "cell_type": "code",
   "execution_count": 7,
   "id": "f7fb063a-31e9-4b95-b62c-d6be00acb69e",
   "metadata": {},
   "outputs": [
    {
     "name": "stdout",
     "output_type": "stream",
     "text": [
      "Result of addition: (6, 8)\n",
      "Result of scalar multiplication: (6, 9)\n",
      "Are v1 and v2 equal? False\n"
     ]
    }
   ],
   "source": [
    "class Vector:\n",
    "    def __init__(self, x, y):\n",
    "        self.x = x\n",
    "        self.y = y\n",
    "\n",
    "    # Overloading the + operator to add two vectors\n",
    "    def __add__(self, other):\n",
    "        return Vector(self.x + other.x, self.y + other.y)\n",
    "\n",
    "    # Overloading the * operator to calculate the scalar multiplication of a vector\n",
    "    def __mul__(self, scalar):\n",
    "        return Vector(self.x * scalar, self.y * scalar)\n",
    "\n",
    "    # Overloading the == operator to compare two vectors for equality\n",
    "    def __eq__(self, other):\n",
    "        return self.x == other.x and self.y == other.y\n",
    "\n",
    "    # Overloading the str() function to provide a string representation of the vector\n",
    "    def __str__(self):\n",
    "        return f\"({self.x}, {self.y})\"\n",
    "\n",
    "v1 = Vector(2, 3)\n",
    "v2 = Vector(4, 5)\n",
    "\n",
    "# Addition of two vectors using the overloaded + operator\n",
    "result_addition = v1 + v2\n",
    "print(\"Result of addition:\", result_addition) \n",
    "\n",
    "# Scalar multiplication of a vector using the overloaded * operator\n",
    "result_scalar_multiplication = v1 * 3\n",
    "print(\"Result of scalar multiplication:\", result_scalar_multiplication)  \n",
    "\n",
    "# Comparison of two vectors for equality using the overloaded == operator\n",
    "print(\"Are v1 and v2 equal?\", v1 == v2) \n"
   ]
  },
  {
   "cell_type": "markdown",
   "id": "a3294f29-2a84-4bad-b873-051aba5df5c0",
   "metadata": {},
   "source": [
    "# 16. What is dynamic polymorphism, and how is it achieved in Python?"
   ]
  },
  {
   "cell_type": "markdown",
   "id": "8a1b4509-dbe3-4365-be8d-92da80919d99",
   "metadata": {},
   "source": [
    "Dynamic polymorphism, also known as runtime polymorphism, is the ability of an object to take on multiple forms during runtime. In simpler terms, it allows different objects to be treated uniformly through a common interface, with the actual method implementation being determined at runtime based on the object's type.\n",
    "\n",
    "dynamic polymorphism in Python is achieved through method overriding and inheritance. "
   ]
  },
  {
   "cell_type": "markdown",
   "id": "7fd9f3f2-ebf2-44e8-bad9-9170f6a55606",
   "metadata": {},
   "source": [
    "# 18. Discuss the concept of function pointers and how they can be used to achieve polymorphism in Python."
   ]
  },
  {
   "cell_type": "markdown",
   "id": "530a14ea-e4d1-42e2-a6af-38885cdae98d",
   "metadata": {},
   "source": [
    "The concept of function pointers is closely related to the use of first-class functions, which are functions that can be passed around as arguments, returned from other functions, and assigned to variables. While Python doesn't have explicit function pointers like some other programming languages, the ability to work with functions as first-class citizens allows for similar behavior.\n",
    "\n",
    "Polymorphism in Python can be achieved using function pointers by defining functions with the same name and signature in different classes or modules, and then using these functions interchangeably based on the context."
   ]
  },
  {
   "cell_type": "markdown",
   "id": "ce08bb7f-f21c-4385-a640-0519cdbb1060",
   "metadata": {},
   "source": [
    "# 19. Explain the role of interfaces and abstract classes in polymorphism, drawing comparisons between them.\n"
   ]
  },
  {
   "cell_type": "raw",
   "id": "09bf0bde-e7ca-4138-99d1-1fe8ee683492",
   "metadata": {},
   "source": [
    "Interfaces:\n",
    "\n",
    "Define a contract for a set of methods that classes must implement.\n",
    "Focus on behavior without providing method implementations.\n",
    "Promote loose coupling between components.\n",
    "\n",
    "Abstract Classes:\n",
    "\n",
    "Provide a partial implementation along with abstract methods.\n",
    "Can contain both abstract and concrete methods.\n",
    "Serve as blueprints for related classes, allowing for code reuse and common behavior.\n",
    "\n",
    "Comparisons:\n",
    "\n",
    "Method Implementation:\n",
    "\n",
    "Interfaces define only method signatures, while abstract classes can have both abstract and concrete methods.\n",
    "Multiple Inheritance:\n",
    "\n",
    "In many languages, classes can implement multiple interfaces but inherit from only one abstract class.\n",
    "Python allows multiple inheritance for abstract classes, providing more flexibility.\n",
    "\n",
    "Usage:\n",
    "\n",
    "Interfaces define contracts and promote loose coupling.\n",
    "Abstract classes facilitate code reuse and common behavior among related classes."
   ]
  },
  {
   "cell_type": "markdown",
   "id": "009de48a-5758-4ce5-921e-4dbf553f94ab",
   "metadata": {},
   "source": [
    "# 20 Create a Python class for a zoo simulation, demonstrating polymorphism with different animal types (e.g.,mammals, birds , reptiles ) and their behaviour (eg . eating, sleeping , making sound)."
   ]
  },
  {
   "cell_type": "code",
   "execution_count": 9,
   "id": "bbd4c848-a5c6-431d-b573-5fc4e3b3b2cc",
   "metadata": {},
   "outputs": [
    {
     "name": "stdout",
     "output_type": "stream",
     "text": [
      "Simba the mammal is munching on leaves.\n",
      "Tweetie the bird is perched and resting.\n",
      "Slither the reptile hisses menacingly.\n"
     ]
    }
   ],
   "source": [
    "class Animal:\n",
    "    def __init__(self, name):\n",
    "        self.name = name\n",
    "\n",
    "    def eat(self):\n",
    "        raise NotImplementedError(\"Subclasses must implement the 'eat' method.\")\n",
    "\n",
    "    def sleep(self):\n",
    "        raise NotImplementedError(\"Subclasses must implement the 'sleep' method.\")\n",
    "\n",
    "    def make_sound(self):\n",
    "        raise NotImplementedError(\"Subclasses must implement the 'make_sound' method.\")\n",
    "\n",
    "\n",
    "class Mammal(Animal):\n",
    "    def eat(self):\n",
    "        return f\"{self.name} the mammal is munching on leaves.\"\n",
    "\n",
    "    def sleep(self):\n",
    "        return f\"{self.name} the mammal is taking a nap.\"\n",
    "\n",
    "    def make_sound(self):\n",
    "        return f\"{self.name} the mammal makes a gentle noise.\"\n",
    "\n",
    "\n",
    "class Bird(Animal):\n",
    "    def eat(self):\n",
    "        return f\"{self.name} the bird is pecking at seeds.\"\n",
    "\n",
    "    def sleep(self):\n",
    "        return f\"{self.name} the bird is perched and resting.\"\n",
    "\n",
    "    def make_sound(self):\n",
    "        return f\"{self.name} the bird chirps loudly.\"\n",
    "\n",
    "\n",
    "class Reptile(Animal):\n",
    "    def eat(self):\n",
    "        return f\"{self.name} the reptile is sunbathing and catching insects.\"\n",
    "\n",
    "    def sleep(self):\n",
    "        return f\"{self.name} the reptile is basking in the warmth.\"\n",
    "\n",
    "    def make_sound(self):\n",
    "        return f\"{self.name} the reptile hisses menacingly.\"\n",
    "\n",
    "\n",
    "lion = Mammal(\"Simba\")\n",
    "sparrow = Bird(\"Tweetie\")\n",
    "snake = Reptile(\"Slither\")\n",
    "\n",
    "print(lion.eat())\n",
    "print(sparrow.sleep())\n",
    "print(snake.make_sound())\n"
   ]
  },
  {
   "cell_type": "markdown",
   "id": "1db60ef3-2899-4f42-8b4f-9314d606db82",
   "metadata": {},
   "source": [
    "# Abstraction:"
   ]
  },
  {
   "cell_type": "markdown",
   "id": "664dd2e1-499d-483a-8b87-f97290341feb",
   "metadata": {},
   "source": [
    "# 1. What is abstraction in Python, and how does it relate to object-oriented programming?"
   ]
  },
  {
   "cell_type": "markdown",
   "id": "1a4d89a9-4434-4c54-92a4-a32087fd58d9",
   "metadata": {},
   "source": [
    "Abstraction in Python and object-oriented programming means hiding complex implementation details and exposing only essential features. It simplifies interaction with objects, making code more manageable, reusable, and easier to understand."
   ]
  },
  {
   "cell_type": "markdown",
   "id": "3e4eddec-8fd9-495d-ac23-a80ec2468280",
   "metadata": {},
   "source": [
    "# 2. Describe the benefits of abstraction in terms of code organization and complexity reduction."
   ]
  },
  {
   "cell_type": "markdown",
   "id": "2c14a302-9476-4de8-8a61-221465f84248",
   "metadata": {},
   "source": [
    "Abstraction simplifies code organization by hiding complex details, making code more modular, readable, and reusable, while reducing overall complexity."
   ]
  },
  {
   "cell_type": "markdown",
   "id": "417cad37-8fb9-4e9a-8556-189740dc6fdd",
   "metadata": {},
   "source": [
    "# 3. Create a Python class called `Shape` with an abstract method `calculate_area()`. Then, create child classes (e.g., `Circle`, `Rectangle`) that implement the `calculate_area()` method. Provide an example of using these classes."
   ]
  },
  {
   "cell_type": "code",
   "execution_count": 1,
   "id": "f55b8a33-54f7-45bb-8cd0-a98ab5fc5651",
   "metadata": {},
   "outputs": [
    {
     "name": "stdout",
     "output_type": "stream",
     "text": [
      "Area of the circle: 78.53981633974483\n",
      "Area of the rectangle: 24\n"
     ]
    }
   ],
   "source": [
    "from abc import ABC, abstractmethod\n",
    "import math\n",
    "\n",
    "class Shape(ABC):\n",
    "    @abstractmethod\n",
    "    def calculate_area(self):\n",
    "        pass\n",
    "\n",
    "class Circle(Shape):\n",
    "    def __init__(self, radius):\n",
    "        self.radius = radius\n",
    "    \n",
    "    def calculate_area(self):\n",
    "        return math.pi * self.radius ** 2\n",
    "\n",
    "class Rectangle(Shape):\n",
    "    def __init__(self, width, height):\n",
    "        self.width = width\n",
    "        self.height = height\n",
    "    \n",
    "    def calculate_area(self):\n",
    "        return self.width * self.height\n",
    "\n",
    "circle = Circle(5)\n",
    "print(\"Area of the circle:\", circle.calculate_area())\n",
    "\n",
    "rectangle = Rectangle(4, 6)\n",
    "print(\"Area of the rectangle:\", rectangle.calculate_area())\n"
   ]
  },
  {
   "cell_type": "markdown",
   "id": "624ea0c9-3f08-4d2b-9384-1f0e529c27ed",
   "metadata": {},
   "source": [
    "# 4. Explain the concept of abstract classes in Python and how they are defined using the `abc` module. Provide an example."
   ]
  },
  {
   "cell_type": "markdown",
   "id": "9a06f638-ff82-4591-84cb-4743978d91f6",
   "metadata": {},
   "source": [
    "Abstract classes can be defined using the abc module, which stands for \"Abstract Base Classes.\" The abc module provides a way to create abstract classes and abstract methods using the ABC (Abstract Base Class) and abstractmethod decorators, respectively.\n"
   ]
  },
  {
   "cell_type": "code",
   "execution_count": 3,
   "id": "ddb2db1e-8152-407a-a072-dbafb7380d66",
   "metadata": {},
   "outputs": [
    {
     "name": "stdout",
     "output_type": "stream",
     "text": [
      "Area of the circle: 78.5\n",
      "Perimeter of the circle: 31.400000000000002\n",
      "Area of the square: 16\n",
      "Perimeter of the square: 16\n"
     ]
    }
   ],
   "source": [
    "from abc import ABC, abstractmethod\n",
    "\n",
    "class Shape(ABC):  # Define an abstract class using ABC\n",
    "    @abstractmethod  # Decorate the abstract method with @abstractmethod\n",
    "    def calculate_area(self):\n",
    "        pass\n",
    "\n",
    "    @abstractmethod\n",
    "    def calculate_perimeter(self):\n",
    "        pass\n",
    "\n",
    "class Circle(Shape):\n",
    "    def __init__(self, radius):\n",
    "        self.radius = radius\n",
    "\n",
    "    def calculate_area(self):\n",
    "        return 3.14 * self.radius ** 2\n",
    "\n",
    "    def calculate_perimeter(self):\n",
    "        return 2 * 3.14 * self.radius\n",
    "\n",
    "class Square(Shape):\n",
    "    def __init__(self, side):\n",
    "        self.side = side\n",
    "\n",
    "    def calculate_area(self):\n",
    "        return self.side ** 2\n",
    "\n",
    "    def calculate_perimeter(self):\n",
    "        return 4 * self.side\n",
    "\n",
    "# Example usage\n",
    "circle = Circle(5)\n",
    "print(\"Area of the circle:\", circle.calculate_area())\n",
    "print(\"Perimeter of the circle:\", circle.calculate_perimeter())\n",
    "\n",
    "square = Square(4)\n",
    "print(\"Area of the square:\", square.calculate_area())\n",
    "print(\"Perimeter of the square:\", square.calculate_perimeter())\n"
   ]
  },
  {
   "cell_type": "markdown",
   "id": "a7b1fcae-8bab-460d-9b55-246d7036aeb2",
   "metadata": {},
   "source": [
    "# 5. How do abstract classes differ from regular classes in Python? Discuss their use cases."
   ]
  },
  {
   "cell_type": "markdown",
   "id": "a2557b1a-03db-443d-b3a9-373e79ea4393",
   "metadata": {},
   "source": [
    "Abstract classes cannot be instantiated directly and often include abstract methods that must be implemented by subclasses. They serve as blueprints for defining common interfaces or behaviors. Regular classes, on the other hand, are instantiated directly and can have concrete implementations for their methods."
   ]
  },
  {
   "cell_type": "markdown",
   "id": "fbfc3cc7-cb6e-45ed-8b7a-fe5d554c7be5",
   "metadata": {},
   "source": [
    "# 6. Create a Python class for a bank account and demonstrate abstraction by hiding the account balance and providing methods to deposit and withdraw funds."
   ]
  },
  {
   "cell_type": "code",
   "execution_count": 5,
   "id": "904adcb3-836d-4917-b938-36cc34e4b6e2",
   "metadata": {},
   "outputs": [
    {
     "name": "stdout",
     "output_type": "stream",
     "text": [
      "Initial balance: 1000\n",
      "Deposited $500. New balance: $1500\n",
      "Withdrew $200. New balance: $1300\n",
      "Withdrawal amount must be positive and cannot exceed the account balance.\n",
      "Final balance: 1300\n"
     ]
    }
   ],
   "source": [
    "class BankAccount:\n",
    "    def __init__(self, initial_balance=0):\n",
    "        self._balance = initial_balance  # Balance is hidden using a single underscore to indicate it's a protected attribute\n",
    "\n",
    "    def deposit(self, amount):\n",
    "        if amount > 0:\n",
    "            self._balance += amount\n",
    "            print(f\"Deposited ${amount}. New balance: ${self._balance}\")\n",
    "        else:\n",
    "            print(\"Deposit amount must be positive.\")\n",
    "\n",
    "    def withdraw(self, amount):\n",
    "        if 0 < amount <= self._balance:\n",
    "            self._balance -= amount\n",
    "            print(f\"Withdrew ${amount}. New balance: ${self._balance}\")\n",
    "        else:\n",
    "            print(\"Withdrawal amount must be positive and cannot exceed the account balance.\")\n",
    "\n",
    "    def get_balance(self):\n",
    "        return self._balance\n",
    "\n",
    "account = BankAccount(1000)\n",
    "print(\"Initial balance:\", account.get_balance())\n",
    "\n",
    "account.deposit(500)\n",
    "account.withdraw(200)\n",
    "account.withdraw(1500)\n",
    "print(\"Final balance:\", account.get_balance())\n"
   ]
  },
  {
   "cell_type": "markdown",
   "id": "b4780b0e-1ef6-43b2-9475-ace17fcdead3",
   "metadata": {},
   "source": [
    "# 7. Discuss the concept of interface classes in Python and their role in achieving abstraction.\n"
   ]
  },
  {
   "cell_type": "markdown",
   "id": "72cc9500-36dc-4c7c-8733-f07a96a0d599",
   "metadata": {},
   "source": [
    "Interface classes in Python define method signatures without implementations, serving as contracts for classes that implement them. They enforce consistency, promote loose coupling, facilitate polymorphism, encourage modularity, and contribute to achieving abstraction in code. Although Python lacks built-in support for interface classes, they can be implemented using abstract base classes (ABCs) or informal conventions."
   ]
  },
  {
   "cell_type": "markdown",
   "id": "cb364dfa-68e4-498d-9ded-add12d889d7c",
   "metadata": {},
   "source": [
    "# 8. Create a Python class hierarchy for animals and implement abstraction by defining common methods (eg eat() , sleep() ) in an abstract base class"
   ]
  },
  {
   "cell_type": "code",
   "execution_count": 7,
   "id": "b84cc958-549b-4900-b1fc-13f65e11097c",
   "metadata": {},
   "outputs": [
    {
     "name": "stdout",
     "output_type": "stream",
     "text": [
      "Buddy says: Woof!\n",
      "Buddy is Running\n",
      "Buddy is eating.\n",
      "Buddy is sleeping.\n",
      "Whiskers says: Meow!\n",
      "Whiskers is Walking\n",
      "Whiskers is eating.\n",
      "Whiskers is sleeping.\n",
      "Tweety says: Chirp!\n",
      "Tweety is Flying\n",
      "Tweety is eating.\n",
      "Tweety is sleeping.\n"
     ]
    }
   ],
   "source": [
    "from abc import ABC, abstractmethod\n",
    "\n",
    "class Animal(ABC):\n",
    "    def __init__(self, name):\n",
    "        self.name = name\n",
    "\n",
    "    @abstractmethod\n",
    "    def speak(self):\n",
    "        pass\n",
    "\n",
    "    @abstractmethod\n",
    "    def move(self):\n",
    "        pass\n",
    "\n",
    "    def eat(self):\n",
    "        return f\"{self.name} is eating.\"\n",
    "\n",
    "    def sleep(self):\n",
    "        return f\"{self.name} is sleeping.\"\n",
    "\n",
    "class Dog(Animal):\n",
    "    def speak(self):\n",
    "        return \"Woof!\"\n",
    "\n",
    "    def move(self):\n",
    "        return \"Running\"\n",
    "\n",
    "class Cat(Animal):\n",
    "    def speak(self):\n",
    "        return \"Meow!\"\n",
    "\n",
    "    def move(self):\n",
    "        return \"Walking\"\n",
    "\n",
    "class Bird(Animal):\n",
    "    def speak(self):\n",
    "        return \"Chirp!\"\n",
    "\n",
    "    def move(self):\n",
    "        return \"Flying\"\n",
    "\n",
    "\n",
    "dog = Dog(\"Buddy\")\n",
    "print(dog.name, \"says:\", dog.speak())\n",
    "print(dog.name, \"is\", dog.move())\n",
    "print(dog.eat())\n",
    "print(dog.sleep())\n",
    "\n",
    "cat = Cat(\"Whiskers\")\n",
    "print(cat.name, \"says:\", cat.speak())\n",
    "print(cat.name, \"is\", cat.move())\n",
    "print(cat.eat())\n",
    "print(cat.sleep())\n",
    "\n",
    "bird = Bird(\"Tweety\")\n",
    "print(bird.name, \"says:\", bird.speak())\n",
    "print(bird.name, \"is\", bird.move())\n",
    "print(bird.eat())\n",
    "print(bird.sleep())\n"
   ]
  },
  {
   "cell_type": "markdown",
   "id": "c25e4d07-9825-4815-b77c-7ba1e18a3a13",
   "metadata": {},
   "source": [
    "# 9. Explain the significance of encapsulation in achieving abstraction. Provide examples."
   ]
  },
  {
   "cell_type": "markdown",
   "id": "04406cef-dcce-48dc-b42d-7f27b5cabf3e",
   "metadata": {},
   "source": [
    "Encapsulation hides the internal state of an object and restricts access to it, promoting abstraction by separating the interface from the implementation. It protects data integrity, promotes modularity and reusability, and enables users to interact with objects through well-defined methods without needing to know the internal details."
   ]
  },
  {
   "cell_type": "code",
   "execution_count": 9,
   "id": "92d33db6-2a13-4b6d-a090-2895d0293c59",
   "metadata": {},
   "outputs": [
    {
     "name": "stdout",
     "output_type": "stream",
     "text": [
      "Current speed: 10\n",
      "Current speed after braking: 0\n"
     ]
    }
   ],
   "source": [
    "class Car:\n",
    "    def __init__(self, make, model, year):\n",
    "        self._make = make  # Encapsulating make as a protected attribute\n",
    "        self._model = model  # Encapsulating model as a protected attribute\n",
    "        self._year = year  # Encapsulating year as a protected attribute\n",
    "        self._speed = 0  # Encapsulating speed as a protected attribute\n",
    "\n",
    "    def accelerate(self):\n",
    "        self._speed += 10\n",
    "\n",
    "    def brake(self):\n",
    "        if self._speed >= 10:\n",
    "            self._speed -= 10\n",
    "        else:\n",
    "            self._speed = 0\n",
    "\n",
    "    def get_speed(self):\n",
    "        return self._speed\n",
    "\n",
    "# Example usage\n",
    "car = Car(\"Toyota\", \"Camry\", 2022)\n",
    "car.accelerate()\n",
    "print(\"Current speed:\", car.get_speed())\n",
    "car.brake()\n",
    "print(\"Current speed after braking:\", car.get_speed())\n"
   ]
  },
  {
   "cell_type": "markdown",
   "id": "18996687-fd6b-410e-8f10-b960bf3565ed",
   "metadata": {},
   "source": [
    "# 10. What is the purpose of abstract methods, and how do they enforce abstraction in Python classes?"
   ]
  },
  {
   "cell_type": "markdown",
   "id": "e0a1c436-4446-4146-840d-38a01513221c",
   "metadata": {},
   "source": [
    "Abstract methods in Python enforce abstraction by defining a contract that subclasses must adhere to, ensuring consistency, promoting polymorphic behavior, and enhancing code readability and maintainability."
   ]
  },
  {
   "cell_type": "markdown",
   "id": "ed0ffad6-9737-465d-85c8-4fce9be6e056",
   "metadata": {},
   "source": [
    "# 11. Create a Python class for a vehicle system and demonstrate abstraction by defining common methods(eg. start() , stop()) in an abstract base class."
   ]
  },
  {
   "cell_type": "code",
   "execution_count": 1,
   "id": "226d3833-b9b7-46c1-a5f0-f4145b73d21a",
   "metadata": {},
   "outputs": [
    {
     "name": "stdout",
     "output_type": "stream",
     "text": [
      "Starting the 2020 Toyota Camry...\n",
      "Starting the 2022 Honda CBR600RR...\n",
      "Stopping the 2020 Toyota Camry...\n",
      "Stopping the 2022 Honda CBR600RR...\n"
     ]
    }
   ],
   "source": [
    "from abc import ABC, abstractmethod\n",
    "\n",
    "class Vehicle(ABC):\n",
    "    def __init__(self, make, model, year):\n",
    "        self.make = make\n",
    "        self.model = model\n",
    "        self.year = year\n",
    "        self.running = False\n",
    "    \n",
    "    @abstractmethod\n",
    "    def start(self):\n",
    "        pass\n",
    "    \n",
    "    @abstractmethod\n",
    "    def stop(self):\n",
    "        pass\n",
    "\n",
    "class Car(Vehicle):\n",
    "    def start(self):\n",
    "        if not self.running:\n",
    "            print(f\"Starting the {self.year} {self.make} {self.model}...\")\n",
    "            self.running = True\n",
    "        else:\n",
    "            print(\"Car is already running.\")\n",
    "    \n",
    "    def stop(self):\n",
    "        if self.running:\n",
    "            print(f\"Stopping the {self.year} {self.make} {self.model}...\")\n",
    "            self.running = False\n",
    "        else:\n",
    "            print(\"Car is already stopped.\")\n",
    "\n",
    "class Motorcycle(Vehicle):\n",
    "    def start(self):\n",
    "        if not self.running:\n",
    "            print(f\"Starting the {self.year} {self.make} {self.model}...\")\n",
    "            self.running = True\n",
    "        else:\n",
    "            print(\"Motorcycle is already running.\")\n",
    "    \n",
    "    def stop(self):\n",
    "        if self.running:\n",
    "            print(f\"Stopping the {self.year} {self.make} {self.model}...\")\n",
    "            self.running = False\n",
    "        else:\n",
    "            print(\"Motorcycle is already stopped.\")\n",
    "\n",
    "car = Car(\"Toyota\", \"Camry\", 2020)\n",
    "motorcycle = Motorcycle(\"Honda\", \"CBR600RR\", 2022)\n",
    "\n",
    "car.start()\n",
    "motorcycle.start()\n",
    "\n",
    "car.stop()\n",
    "motorcycle.stop()\n"
   ]
  },
  {
   "cell_type": "markdown",
   "id": "21d93acd-08db-456a-a97a-a2fedb031e8d",
   "metadata": {},
   "source": [
    "# 12. Describe the use of abstract properties in Python and how they can be employed in abstract classes."
   ]
  },
  {
   "cell_type": "code",
   "execution_count": 2,
   "id": "cc6aefdd-68ef-4bbc-8d7c-85cf46efd4d1",
   "metadata": {},
   "outputs": [
    {
     "name": "stdout",
     "output_type": "stream",
     "text": [
      "Rectangle Area: 20\n",
      "Rectangle Perimeter: 18\n",
      "Circle Area: 28.27431\n",
      "Circle Perimeter: 18.849539999999998\n"
     ]
    }
   ],
   "source": [
    "from abc import ABC, abstractmethod\n",
    "\n",
    "class Shape(ABC):\n",
    "    @property\n",
    "    @abstractmethod\n",
    "    def area(self):\n",
    "        pass\n",
    "\n",
    "    @property\n",
    "    @abstractmethod\n",
    "    def perimeter(self):\n",
    "        pass\n",
    "\n",
    "class Rectangle(Shape):\n",
    "    def __init__(self, width, height):\n",
    "        self.width = width\n",
    "        self.height = height\n",
    "    \n",
    "    @property\n",
    "    def area(self):\n",
    "        return self.width * self.height\n",
    "    \n",
    "    @property\n",
    "    def perimeter(self):\n",
    "        return 2 * (self.width + self.height)\n",
    "\n",
    "class Circle(Shape):\n",
    "    def __init__(self, radius):\n",
    "        self.radius = radius\n",
    "    \n",
    "    @property\n",
    "    def area(self):\n",
    "        return 3.14159 * self.radius ** 2\n",
    "    \n",
    "    @property\n",
    "    def perimeter(self):\n",
    "        return 2 * 3.14159 * self.radius\n",
    "\n",
    "rectangle = Rectangle(5, 4)\n",
    "print(\"Rectangle Area:\", rectangle.area)\n",
    "print(\"Rectangle Perimeter:\", rectangle.perimeter)\n",
    "\n",
    "circle = Circle(3)\n",
    "print(\"Circle Area:\", circle.area)\n",
    "print(\"Circle Perimeter:\", circle.perimeter)\n"
   ]
  },
  {
   "cell_type": "markdown",
   "id": "c442c471-5ce9-4896-b239-be047347680b",
   "metadata": {},
   "source": [
    "# 13. Create a Python class hierarchy for employees in a company (e.g., manager, developer, designer) and implement abstraction by defining a common get_salary() method. "
   ]
  },
  {
   "cell_type": "code",
   "execution_count": 5,
   "id": "d022ed8b-bc1e-4527-b2e8-5398d5d2f628",
   "metadata": {},
   "outputs": [
    {
     "name": "stdout",
     "output_type": "stream",
     "text": [
      "Manager Salary: 5000\n",
      "Developer Salary: 8000\n",
      "Designer Salary: 6000\n"
     ]
    }
   ],
   "source": [
    "from abc import ABC, abstractmethod\n",
    "\n",
    "class Employee(ABC):\n",
    "    def __init__(self, name, employee_id):\n",
    "        self.name = name\n",
    "        self.employee_id = employee_id\n",
    "    \n",
    "    @abstractmethod\n",
    "    def get_salary(self):\n",
    "        pass\n",
    "\n",
    "class Manager(Employee):\n",
    "    def __init__(self, name, employee_id, salary):\n",
    "        super().__init__(name, employee_id)\n",
    "        self.salary = salary\n",
    "    \n",
    "    def get_salary(self):\n",
    "        return self.salary\n",
    "\n",
    "class Developer(Employee):\n",
    "    def __init__(self, name, employee_id, hourly_rate, hours_worked):\n",
    "        super().__init__(name, employee_id)\n",
    "        self.hourly_rate = hourly_rate\n",
    "        self.hours_worked = hours_worked\n",
    "    \n",
    "    def get_salary(self):\n",
    "        return self.hourly_rate * self.hours_worked\n",
    "\n",
    "class Designer(Employee):\n",
    "    def __init__(self, name, employee_id, monthly_salary):\n",
    "        super().__init__(name, employee_id)\n",
    "        self.monthly_salary = monthly_salary\n",
    "    \n",
    "    def get_salary(self):\n",
    "        return self.monthly_salary\n",
    "\n",
    "manager = Manager(\"Azman khan\", 1001, 5000)\n",
    "developer = Developer(\"Arshiya khan \", 2001, 50, 160)\n",
    "designer = Designer(\"Ariha khan \", 3001, 6000)\n",
    "\n",
    "print(\"Manager Salary:\", manager.get_salary())\n",
    "print(\"Developer Salary:\", developer.get_salary())\n",
    "print(\"Designer Salary:\", designer.get_salary())\n"
   ]
  },
  {
   "cell_type": "markdown",
   "id": "07d23a8b-ec66-4246-9dd4-732230a8aa30",
   "metadata": {},
   "source": [
    "# 14. Discuss the differences between abstract classes and concrete classes in Python, including their instantiation."
   ]
  },
  {
   "cell_type": "markdown",
   "id": "7420f80f-0e37-467b-8ce4-0b3192a3a951",
   "metadata": {},
   "source": [
    "Abstract classes in Python cannot be instantiated and often define one or more abstract methods that must be implemented by subclasses. They serve as blueprints for other classes.\n",
    "\n",
    "Concrete classes, on the other hand, can be instantiated directly and have fully implemented methods. They represent tangible objects or concepts in your code.\n",
    "\n",
    "In essence, abstract classes define what must be implemented, while concrete classes provide the actual implementations.\n",
    "\n",
    "\n",
    "\n",
    "\n"
   ]
  },
  {
   "cell_type": "markdown",
   "id": "c9dc380c-6a02-4bd2-ae50-4500b11f41b8",
   "metadata": {},
   "source": [
    "# 15. Explain the concept of abstract data types (ADTs) and their role in achieving abstraction in Python."
   ]
  },
  {
   "cell_type": "markdown",
   "id": "8a2089f0-27dd-4e8e-81fe-d7c1e4000aed",
   "metadata": {},
   "source": [
    "Abstract Data Types (ADTs) in Python provide a way to organize and manipulate data based on its behavior, rather than its implementation details. They achieve abstraction by hiding the inner workings of data structures, allowing users to focus on how to use them rather than how they are implemented. ADTs simplify programming by providing clear interfaces for data manipulation"
   ]
  },
  {
   "cell_type": "markdown",
   "id": "94e2ac12-7b83-48bc-832c-67bd0e8360b1",
   "metadata": {},
   "source": [
    "# 16. Create a Python class for a computer system, demonstrating abstraction by defining common methods (eg. power_on() , shut_down() ) in an abstract base class."
   ]
  },
  {
   "cell_type": "code",
   "execution_count": 6,
   "id": "b2a786eb-c8ad-4fbe-91fa-9ab7da3b400b",
   "metadata": {},
   "outputs": [
    {
     "name": "stdout",
     "output_type": "stream",
     "text": [
      "Desktop Computer: Powering on...\n",
      "Desktop Computer: Shutting down...\n",
      "Laptop Computer: Powering on...\n",
      "Laptop Computer: Shutting down...\n"
     ]
    }
   ],
   "source": [
    "from abc import ABC, abstractmethod\n",
    "\n",
    "class ComputerSystem(ABC):\n",
    "    @abstractmethod\n",
    "    def power_on(self):\n",
    "        pass\n",
    "    \n",
    "    @abstractmethod\n",
    "    def shut_down(self):\n",
    "        pass\n",
    "\n",
    "class DesktopComputer(ComputerSystem):\n",
    "    def power_on(self):\n",
    "        print(\"Desktop Computer: Powering on...\")\n",
    "        # Additional actions specific to powering on a desktop computer\n",
    "    \n",
    "    def shut_down(self):\n",
    "        print(\"Desktop Computer: Shutting down...\")\n",
    "        # Additional actions specific to shutting down a desktop computer\n",
    "\n",
    "class LaptopComputer(ComputerSystem):\n",
    "    def power_on(self):\n",
    "        print(\"Laptop Computer: Powering on...\")\n",
    "        # Additional actions specific to powering on a laptop computer\n",
    "    \n",
    "    def shut_down(self):\n",
    "        print(\"Laptop Computer: Shutting down...\")\n",
    "        # Additional actions specific to shutting down a laptop computer\n",
    "\n",
    "# Example usage\n",
    "desktop = DesktopComputer()\n",
    "desktop.power_on()\n",
    "desktop.shut_down()\n",
    "\n",
    "laptop = LaptopComputer()\n",
    "laptop.power_on()\n",
    "laptop.shut_down()\n"
   ]
  },
  {
   "cell_type": "markdown",
   "id": "99b2353f-ae13-4a9d-93e9-1c674df2a829",
   "metadata": {},
   "source": [
    "# 17. Discuss the benefits of using abstraction in large-scale software development projects."
   ]
  },
  {
   "cell_type": "markdown",
   "id": "ce1d5850-b556-41e9-8810-e49a8d7a3fa4",
   "metadata": {},
   "source": [
    "Using abstraction in large-scale software development projects offers benefits such as modularity, encapsulation, reduced complexity, ease of maintenance, adaptability, extensibility, improved testing and debugging, and enhanced code reusability. Abstraction simplifies development, promotes code organization, facilitates collaboration, and ensures software remains relevant and scalable over time."
   ]
  },
  {
   "cell_type": "markdown",
   "id": "da622e25-cdea-4478-93d2-af79b86643fc",
   "metadata": {},
   "source": [
    "# 18. Explain how abstraction enhances code reusability and modularity in Python programs."
   ]
  },
  {
   "cell_type": "markdown",
   "id": "690126dc-d471-4dad-9868-ccea80e73fbe",
   "metadata": {},
   "source": [
    "Abstraction in Python enhances code reusability and modularity by encapsulating implementation details, providing clear interfaces, enabling reuse of generic components, facilitating composition and extension, and simplifying testing and maintenance efforts. It allows developers to create generic components that can be easily combined and reused across projects, leading to more efficient and scalable software development."
   ]
  },
  {
   "cell_type": "markdown",
   "id": "5d92e6c0-5caa-42a7-bbc9-1b3246df929e",
   "metadata": {},
   "source": [
    "# 19. Create a Python class for a library system, implementing abstraction by defining common methods (e.g., add_book() , borrow_book()) in an abstract base class."
   ]
  },
  {
   "cell_type": "code",
   "execution_count": 8,
   "id": "a120d144-fd7d-4c3e-8784-f9bbaf6359d1",
   "metadata": {},
   "outputs": [
    {
     "name": "stdout",
     "output_type": "stream",
     "text": [
      "Added 'The Great Gatsby' by F. Scott Fitzgerald to the library.\n",
      "Borrowed 'The Great Gatsby' from the library.\n",
      "Added 'To Kill a Mockingbird' by Harper Lee to the library.\n",
      "Returned 'The Great Gatsby' to the library.\n"
     ]
    }
   ],
   "source": [
    "from abc import ABC, abstractmethod\n",
    "\n",
    "class LibrarySystem(ABC):\n",
    "    def __init__(self):\n",
    "        self.books = {}\n",
    "\n",
    "    @abstractmethod\n",
    "    def add_book(self, book_title, book_author):\n",
    "        pass\n",
    "    \n",
    "    @abstractmethod\n",
    "    def borrow_book(self, book_title):\n",
    "        pass\n",
    "    \n",
    "    @abstractmethod\n",
    "    def return_book(self, book_title):\n",
    "        pass\n",
    "\n",
    "class BasicLibrary(LibrarySystem):\n",
    "    def add_book(self, book_title, book_author):\n",
    "        if book_title not in self.books:\n",
    "            self.books[book_title] = book_author\n",
    "            print(f\"Added '{book_title}' by {book_author} to the library.\")\n",
    "        else:\n",
    "            print(f\"'{book_title}' already exists in the library.\")\n",
    "    \n",
    "    def borrow_book(self, book_title):\n",
    "        if book_title in self.books:\n",
    "            del self.books[book_title]\n",
    "            print(f\"Borrowed '{book_title}' from the library.\")\n",
    "        else:\n",
    "            print(f\"'{book_title}' is not available in the library.\")\n",
    "    \n",
    "    def return_book(self, book_title):\n",
    "        self.books[book_title] = \"\"\n",
    "        print(f\"Returned '{book_title}' to the library.\")\n",
    "\n",
    "\n",
    "library = BasicLibrary()\n",
    "library.add_book(\"The Great Gatsby\", \"F. Scott Fitzgerald\")\n",
    "library.borrow_book(\"The Great Gatsby\")\n",
    "library.add_book(\"To Kill a Mockingbird\", \"Harper Lee\")\n",
    "library.return_book(\"The Great Gatsby\")"
   ]
  },
  {
   "cell_type": "markdown",
   "id": "d4471625-4708-4e24-a4e0-88904bd959a2",
   "metadata": {},
   "source": [
    "# 20. Describe the concept of method abstraction in Python and how it relates to polymorphism."
   ]
  },
  {
   "cell_type": "markdown",
   "id": "9b9b0592-fbd1-442f-bf98-f9513af7381e",
   "metadata": {},
   "source": [
    "In Python, method abstraction involves hiding implementation details of methods, allowing interaction through well-defined interfaces. Polymorphism enables methods to behave differently based on the object's type. Together, they promote code reuse, modularity, and flexibility by allowing for hierarchies of related objects with shared behaviors."
   ]
  },
  {
   "cell_type": "markdown",
   "id": "e31f2e0c-fa7f-4588-a4c4-af2dd0db27f5",
   "metadata": {},
   "source": [
    "# Composition:"
   ]
  },
  {
   "cell_type": "markdown",
   "id": "faba85a1-e460-4c40-918c-77bf3835622b",
   "metadata": {},
   "source": [
    "# 1. Explain the concept of composition in Python and how it is used to build complex objects from simpler ones."
   ]
  },
  {
   "cell_type": "markdown",
   "id": "4d34e570-274f-4e19-be87-a135d769ced9",
   "metadata": {},
   "source": [
    "Composition in Python refers to the practice of constructing complex objects by combining simpler objects or components. It involves creating classes that contain instances of other classes as attributes, allowing for the creation of more intricate structures from smaller, reusable pieces.\n",
    "\n",
    "In composition, the complex object (e.g., a class) consists of one or more instances of other classes, known as components or parts. These parts are typically encapsulated within the complex object and are responsible for specific functionalities or behaviors.\n",
    "\n",
    "Composition enables developers to build complex systems in a modular and flexible manner. By breaking down functionality into smaller, more manageable components, developers can easily reuse and extend existing code. Additionally, composition promotes code organization and encapsulation, as each component can operate independently while contributing to the overall functionality of the complex object."
   ]
  },
  {
   "cell_type": "markdown",
   "id": "b9734c24-22b4-48ea-9084-3323c87feab6",
   "metadata": {},
   "source": [
    "# 2. Describe the difference between composition and inheritance in object-oriented programming."
   ]
  },
  {
   "cell_type": "markdown",
   "id": "d322d491-173a-42d2-901b-faa29ede5e0c",
   "metadata": {},
   "source": [
    "Inheritance: Subclassing existing classes to create new ones, promoting code reuse via an \"is-a\" relationship.\n",
    "\n",
    "Composition: Building complex objects by combining simpler ones as attributes within a class, fostering flexibility via a \"has-a\" relationship."
   ]
  },
  {
   "cell_type": "code",
   "execution_count": null,
   "id": "4afa7773-2abe-4a60-b077-259da6e34a96",
   "metadata": {},
   "outputs": [],
   "source": []
  },
  {
   "cell_type": "markdown",
   "id": "be2751c2-480e-411a-b29b-39059913e52c",
   "metadata": {},
   "source": [
    "# 3. Create a Python class called `Author` with attributes for name and birthdate. Then, create a `Book` class that contains an instance of `Author` as a composition. Provide an example of creating a `Book` object."
   ]
  },
  {
   "cell_type": "code",
   "execution_count": 9,
   "id": "1bd33e99-b111-48a5-a1e9-4bda2573fa0e",
   "metadata": {},
   "outputs": [
    {
     "name": "stdout",
     "output_type": "stream",
     "text": [
      "Book Title: To Kill a Mockingbird\n",
      "Author: Harper Lee\n",
      "Author Birthdate: April 28, 1926\n"
     ]
    }
   ],
   "source": [
    "class Author:\n",
    "    def __init__(self,name , birthdate):\n",
    "        self.name = name\n",
    "        self.birthdate = birthdate\n",
    "        \n",
    "class Book:\n",
    "    def __init__(self, title, author_name, author_birthdate):\n",
    "        self.title = title\n",
    "        self.author = Author(author_name, author_birthdate)\n",
    "    \n",
    "book = Book(\"To Kill a Mockingbird\", \"Harper Lee\", \"April 28, 1926\")\n",
    "print(\"Book Title:\", book.title)\n",
    "print(\"Author:\", book.author.name)\n",
    "print(\"Author Birthdate:\", book.author.birthdate)    \n",
    "        "
   ]
  },
  {
   "cell_type": "markdown",
   "id": "c495b1b1-e018-4338-8a33-05cbbe6e7c23",
   "metadata": {},
   "source": [
    "# 4. Discuss the benefits of using composition over inheritance in Python, especially in terms of code flexibility and reusability."
   ]
  },
  {
   "cell_type": "markdown",
   "id": "25b233a0-7712-43d2-b787-064431214113",
   "metadata": {},
   "source": [
    "Using composition over inheritance in Python offers benefits in terms of flexibility, code reusability, encapsulation, ease of modification, and testability. Composition allows for loose coupling between classes, promotes reuse of existing components, simplifies code modification, and enhances testability by isolating components for testing. Overall, it leads to more adaptable, maintainable, and scalable software systems."
   ]
  },
  {
   "cell_type": "markdown",
   "id": "7c9240c5-16cb-48f7-8032-ad1043f287bb",
   "metadata": {},
   "source": [
    "# 5. How can you implement composition in Python classes? Provide examples of using composition to create complex objects."
   ]
  },
  {
   "cell_type": "raw",
   "id": "f320c3db-1920-4bed-a719-1e4ea44d69ae",
   "metadata": {},
   "source": [
    "Composition in Python classes can be implemented by creating instances of other classes as attributes within a class. Here's how you can implement composition in Python classes:\n",
    "\n",
    "Define a class with attributes representing the components or parts.\n",
    "Instantiate objects of other classes within the class.\n",
    "Use these objects to implement the desired functionality."
   ]
  },
  {
   "cell_type": "code",
   "execution_count": 10,
   "id": "8e4d9f47-f85f-49f5-ba1d-7ce2c1b4157b",
   "metadata": {},
   "outputs": [
    {
     "name": "stdout",
     "output_type": "stream",
     "text": [
      "Engine started.\n"
     ]
    }
   ],
   "source": [
    "class Engine:\n",
    "    def start(self):\n",
    "        print(\"Engine started.\")\n",
    "\n",
    "class Car:\n",
    "    def __init__(self):\n",
    "        self.engine = Engine()  # Composition: Car has an Engine instance\n",
    "\n",
    "    def start_engine(self):\n",
    "        self.engine.start()\n",
    "\n",
    "\n",
    "car = Car()\n",
    "car.start_engine()"
   ]
  },
  {
   "cell_type": "markdown",
   "id": "0efa58c7-03c1-41e2-b749-4a1117cdd8dd",
   "metadata": {},
   "source": [
    "# 6. Create a Python class hierarchy for a music player system, using composition to represent playlists and songs."
   ]
  },
  {
   "cell_type": "code",
   "execution_count": 11,
   "id": "c3c94282-1179-494f-a2fc-85805f2453fb",
   "metadata": {},
   "outputs": [
    {
     "name": "stdout",
     "output_type": "stream",
     "text": [
      "Playing playlist 'Bollywood Hits':\n",
      "Playing 'Tum Hi Ho' by Arijit Singh (272 seconds)\n",
      "Playing 'Teri Meri' by Rahat Fateh Ali Khan, Shreya Ghoshal (340 seconds)\n",
      "Playing 'Kal Ho Na Ho' by Sonu Nigam (314 seconds)\n"
     ]
    }
   ],
   "source": [
    "class Song:\n",
    "    def __init__(self, title, artist, duration):\n",
    "        self.title = title\n",
    "        self.artist = artist\n",
    "        self.duration = duration\n",
    "\n",
    "    def play(self):\n",
    "        print(f\"Playing '{self.title}' by {self.artist} ({self.duration} seconds)\")\n",
    "\n",
    "class Playlist:\n",
    "    def __init__(self, name):\n",
    "        self.name = name\n",
    "        self.songs = []\n",
    "\n",
    "    def add_song(self, song):\n",
    "        self.songs.append(song)\n",
    "\n",
    "    def play_all(self):\n",
    "        print(f\"Playing playlist '{self.name}':\")\n",
    "        for song in self.songs:\n",
    "            song.play()\n",
    "\n",
    "\n",
    "song1 = Song(\"Tum Hi Ho\", \"Arijit Singh\", 272)\n",
    "song2 = Song(\"Teri Meri\", \"Rahat Fateh Ali Khan, Shreya Ghoshal\", 340)\n",
    "song3 = Song(\"Kal Ho Na Ho\", \"Sonu Nigam\", 314)\n",
    "\n",
    "playlist = Playlist(\"Bollywood Hits\")\n",
    "playlist.add_song(song1)\n",
    "playlist.add_song(song2)\n",
    "playlist.add_song(song3)\n",
    "\n",
    "playlist.play_all()\n"
   ]
  },
  {
   "cell_type": "markdown",
   "id": "f64694db-559f-4bf2-8b2f-c8162821f10f",
   "metadata": {},
   "source": [
    "# 7. Explain the concept of \"has-a\" relationships in composition and how it helps design software systems."
   ]
  },
  {
   "cell_type": "raw",
   "id": "64478539-e762-47a5-a158-1fc6b3bcd54f",
   "metadata": {},
   "source": [
    "The concept of \"has-a\" relationships in composition refers to the relationship between classes where one class contains another class as a component or part. In other words, one class has another class as an attribute.\n",
    "\n",
    "\n",
    "\"Has-a\" relationship in composition means that one class contains another class as a part.\n",
    "It helps design software systems by promoting modularity, code reuse, and flexibility.\n",
    "It allows for building complex objects by combining simpler ones as attributes within a class.\n",
    "\"Has-a\" relationships facilitate encapsulation, as the containing class can hide the implementation details of its components.\n",
    "It enables the creation of flexible and maintainable code structures, where components can be easily added, removed, or replaced without affecting the overall system."
   ]
  },
  {
   "cell_type": "markdown",
   "id": "24192095-1f71-46e3-b746-dd9c325bf89a",
   "metadata": {},
   "source": [
    "# 8. Create a Python class for a computer system, using composition to represent components like CPU, RAM, and storage devices."
   ]
  },
  {
   "cell_type": "code",
   "execution_count": 14,
   "id": "8fa0f4da-084f-48e0-a092-08d905bbc094",
   "metadata": {},
   "outputs": [
    {
     "name": "stdout",
     "output_type": "stream",
     "text": [
      "CPU: Intel Core i7 (8 cores)\n",
      "RAM: 16 GB RAM (3200 MHz)\n",
      "Storage: 512 GB SSD storage\n"
     ]
    }
   ],
   "source": [
    "class CPU:\n",
    "    def __init__(self, brand, model, cores):\n",
    "        self.brand = brand\n",
    "        self.model = model\n",
    "        self.cores = cores\n",
    "\n",
    "    def info(self):\n",
    "        return f\"{self.brand} {self.model} ({self.cores} cores)\"\n",
    "\n",
    "class RAM:\n",
    "    def __init__(self, capacity, speed):\n",
    "        self.capacity = capacity\n",
    "        self.speed = speed\n",
    "\n",
    "    def info(self):\n",
    "        return f\"{self.capacity} GB RAM ({self.speed} MHz)\"\n",
    "\n",
    "class Storage:\n",
    "    def __init__(self, capacity, types):\n",
    "        self.capacity = capacity\n",
    "        self.types = types\n",
    "\n",
    "    def info(self):\n",
    "        return f\"{self.capacity} GB {self.types} storage\"\n",
    "\n",
    "\n",
    "class ComputerSystem:\n",
    "    def __init__(self, cpu, ram, storage):\n",
    "        self.cpu = cpu\n",
    "        self.ram = ram\n",
    "        self.storage = storage\n",
    "\n",
    "    def specs(self):\n",
    "        cpu_info = self.cpu.info()\n",
    "        ram_info = self.ram.info()\n",
    "        storage_info = self.storage.info()\n",
    "        return f\"CPU: {cpu_info}\\nRAM: {ram_info}\\nStorage: {storage_info}\"\n",
    "\n",
    "\n",
    "\n",
    "cpu = CPU(\"Intel\", \"Core i7\", 8)\n",
    "ram = RAM(16, 3200)\n",
    "storage = Storage(512, \"SSD\")\n",
    "\n",
    "computer = ComputerSystem(cpu, ram, storage)\n",
    "print(computer.specs())"
   ]
  },
  {
   "cell_type": "markdown",
   "id": "33cb7ac4-ec81-4cc9-8ecc-68696bf24640",
   "metadata": {},
   "source": [
    "# 9. Describe the concept of \"delegation\" in composition and how it simplifies the design of complex systems."
   ]
  },
  {
   "cell_type": "markdown",
   "id": "9c4f325e-a154-425c-8136-4b1ebca2d72a",
   "metadata": {},
   "source": [
    "Delegation in composition simplifies the design of complex systems by promoting modularity, code reusability, encapsulation, flexibility, and simplicity. It allows each class to focus on specific functionality, encourages code reuse, hides implementation details, facilitates easy modifications, and leads to cleaner, more maintainable code."
   ]
  },
  {
   "cell_type": "markdown",
   "id": "3aba3cd9-5885-4210-8c4b-1d7e412423fd",
   "metadata": {},
   "source": [
    "# 10. Create a Python class for a car, using composition to represent components like the engine, wheels, and transmission."
   ]
  },
  {
   "cell_type": "code",
   "execution_count": 15,
   "id": "51b5001d-8498-47ba-920c-84965f57707a",
   "metadata": {},
   "outputs": [
    {
     "name": "stdout",
     "output_type": "stream",
     "text": [
      "Engine started.\n",
      "Wheel rotating.\n",
      "Wheel rotating.\n",
      "Wheel rotating.\n",
      "Wheel rotating.\n",
      "Gear shifted.\n",
      "Engine stopped.\n"
     ]
    }
   ],
   "source": [
    "class Engine:\n",
    "    def __init__(self, horsepower):\n",
    "        self.horsepower = horsepower\n",
    "\n",
    "    def start(self):\n",
    "        print(\"Engine started.\")\n",
    "\n",
    "    def stop(self):\n",
    "        print(\"Engine stopped.\")\n",
    "\n",
    "class Wheel:\n",
    "    def __init__(self, size):\n",
    "        self.size = size\n",
    "\n",
    "    def rotate(self):\n",
    "        print(\"Wheel rotating.\")\n",
    "\n",
    "class Transmission:\n",
    "    def __init__(self, type):\n",
    "        self.type = type\n",
    "\n",
    "    def shift_gear(self):\n",
    "        print(\"Gear shifted.\")\n",
    "\n",
    "class Car:\n",
    "    def __init__(self, engine, wheels, transmission):\n",
    "        self.engine = engine\n",
    "        self.wheels = wheels\n",
    "        self.transmission = transmission\n",
    "\n",
    "    def start(self):\n",
    "        self.engine.start()\n",
    "        for wheel in self.wheels:\n",
    "            wheel.rotate()\n",
    "\n",
    "    def stop(self):\n",
    "        self.engine.stop()\n",
    "\n",
    "    def shift_gear(self):\n",
    "        self.transmission.shift_gear()\n",
    "\n",
    "\n",
    "engine = Engine(horsepower=200)\n",
    "wheels = [Wheel(size=18) for _ in range(4)]\n",
    "transmission = Transmission(type=\"Automatic\")\n",
    "\n",
    "car = Car(engine, wheels, transmission)\n",
    "car.start()\n",
    "car.shift_gear()\n",
    "car.stop()"
   ]
  },
  {
   "cell_type": "markdown",
   "id": "e0e6cb8c-04d4-4074-9914-f77802aac9db",
   "metadata": {},
   "source": [
    "# 11. How can you encapsulate and hide the details of composed objects in Python classes to maintain abstraction?"
   ]
  },
  {
   "cell_type": "raw",
   "id": "f0c32d1e-5ddf-415c-9957-36224f39583f",
   "metadata": {},
   "source": [
    "To encapsulate and hide the details of composed objects in Python classes to maintain abstraction:\n",
    "\n",
    "Use private attributes for composed objects.\n",
    "Provide public methods as an interface for interaction.\n",
    "Delegate method calls to composed objects within the class.\n",
    "Hide implementation details and expose only necessary functionality through well-defined interfaces."
   ]
  },
  {
   "cell_type": "code",
   "execution_count": 16,
   "id": "9eb563ff-f59b-4db0-a969-a85808a50552",
   "metadata": {},
   "outputs": [
    {
     "name": "stdout",
     "output_type": "stream",
     "text": [
      "Engine started.\n",
      "Engine status: on\n",
      "Engine stopped.\n",
      "Engine status: off\n"
     ]
    }
   ],
   "source": [
    "# for example\n",
    "class Engine:\n",
    "    def __init__(self):\n",
    "        self.__status = \"off\"\n",
    "\n",
    "    def start(self):\n",
    "        self.__status = \"on\"\n",
    "        print(\"Engine started.\")\n",
    "\n",
    "    def stop(self):\n",
    "        self.__status = \"off\"\n",
    "        print(\"Engine stopped.\")\n",
    "\n",
    "    def get_status(self):\n",
    "        return self.__status\n",
    "\n",
    "\n",
    "class Car:\n",
    "    def __init__(self):\n",
    "        self.__engine = Engine()\n",
    "\n",
    "    def start(self):\n",
    "        self.__engine.start()\n",
    "\n",
    "    def stop(self):\n",
    "        self.__engine.stop()\n",
    "\n",
    "    def get_engine_status(self):\n",
    "        return self.__engine.get_status()\n",
    "\n",
    "car = Car()\n",
    "car.start()\n",
    "print(\"Engine status:\", car.get_engine_status())\n",
    "car.stop()\n",
    "print(\"Engine status:\", car.get_engine_status())\n"
   ]
  },
  {
   "cell_type": "markdown",
   "id": "53e9af07-a146-4fb9-ac6c-34aae3d06787",
   "metadata": {},
   "source": [
    "# 12. Create a Python class for a university course, using composition to represent students, instructors, and course materials. "
   ]
  },
  {
   "cell_type": "code",
   "execution_count": 19,
   "id": "2baf2862-4e1e-42cb-8c0a-eb161d9bade0",
   "metadata": {},
   "outputs": [
    {
     "name": "stdout",
     "output_type": "stream",
     "text": [
      "Course Code: CS101\n",
      "Course Name: Introduction to Python Programming\n",
      "Instructor: Instructor: Dr. Anamika, ID: I123\n",
      "Students:\n",
      "- Student: Azman, ID: S12345\n",
      "- Student: Arshiya, ID: S67890\n",
      "Course Materials:\n",
      "- Course Material: Lecture Slides\n",
      "- Course Material: Lab Assignments\n"
     ]
    }
   ],
   "source": [
    "class Student:\n",
    "    def __init__(self, name, student_id):\n",
    "        self.name = name\n",
    "        self.student_id = student_id\n",
    "\n",
    "    def __str__(self):\n",
    "        return f\"Student: {self.name}, ID: {self.student_id}\"\n",
    "\n",
    "class Instructor:\n",
    "    def __init__(self, name, instructor_id):\n",
    "        self.name = name\n",
    "        self.instructor_id = instructor_id\n",
    "\n",
    "    def __str__(self):\n",
    "        return f\"Instructor: {self.name}, ID: {self.instructor_id}\"\n",
    "\n",
    "class CourseMaterial:\n",
    "    def __init__(self, title, content):\n",
    "        self.title = title\n",
    "        self.content = content\n",
    "\n",
    "    def __str__(self):\n",
    "        return f\"Course Material: {self.title}\"\n",
    "\n",
    "class UniversityCourse:\n",
    "    def __init__(self, course_code, course_name, instructor, students, course_materials):\n",
    "        self.course_code = course_code\n",
    "        self.course_name = course_name\n",
    "        self.instructor = instructor\n",
    "        self.students = students\n",
    "        self.course_materials = course_materials\n",
    "\n",
    "    def display_info(self):\n",
    "        print(f\"Course Code: {self.course_code}\")\n",
    "        print(f\"Course Name: {self.course_name}\")\n",
    "        print(\"Instructor:\", self.instructor)\n",
    "        print(\"Students:\")\n",
    "        for student in self.students:\n",
    "            print(\"-\", student)\n",
    "        print(\"Course Materials:\")\n",
    "        for material in self.course_materials:\n",
    "            print(\"-\", material)\n",
    "\n",
    "student1 = Student(\"Azman\", \"S12345\")\n",
    "student2 = Student(\"Arshiya\", \"S67890\")\n",
    "instructor = Instructor(\"Dr. Anamika\" ,\"I123\")\n",
    "material1 = CourseMaterial(\"Lecture Slides\", \"Introduction to Python\")\n",
    "material2 = CourseMaterial(\"Lab Assignments\", \"Python Programming Exercises\")\n",
    "\n",
    "course = UniversityCourse(\"CS101\", \"Introduction to Python Programming\", instructor, [student1, student2], [material1, material2])\n",
    "course.display_info()"
   ]
  },
  {
   "cell_type": "markdown",
   "id": "1a286128-f652-41e8-82c8-a7f31a00ddb6",
   "metadata": {},
   "source": [
    "# 13. Discuss the challenges and drawbacks of composition, such as increased complexity and potential for tight coupling between objects."
   ]
  },
  {
   "cell_type": "raw",
   "id": "1f6c0614-67d5-49a5-a68f-2fa7f22205d5",
   "metadata": {},
   "source": [
    "Some challenges and drawbacks of composition include:\n",
    "\n",
    "Increased complexity due to managing interactions between composed objects.\n",
    "Potential for tight coupling between objects, making modifications difficult.\n",
    "Writing additional boilerplate code for delegation.\n",
    "Object creation overhead and potential for circular dependencies.\n",
    "Difficulty in testing, especially with complex compositions.\n",
    "Increased memory usage, particularly with redundant data in composed objects.\n",
    "To mitigate these challenges, careful design, loose coupling between classes, and adherence to design principles are necessary."
   ]
  },
  {
   "cell_type": "markdown",
   "id": "f823312b-f332-48c6-a61e-dc9d14d6e39b",
   "metadata": {},
   "source": [
    "# 14. Create a Python class hierarchy for a restaurant system, using composition to represent menus, dishes, and ingredients."
   ]
  },
  {
   "cell_type": "code",
   "execution_count": 20,
   "id": "3ab88e36-b950-4a4d-a87d-e7770c636b5a",
   "metadata": {},
   "outputs": [
    {
     "name": "stdout",
     "output_type": "stream",
     "text": [
      "Menu: Italian Menu\n",
      "Dishes:\n",
      "- Margherita Pizza (Tomato, Cheese, Bread)\n",
      "- Caprese Salad (Tomato, Cheese)\n"
     ]
    }
   ],
   "source": [
    "class Ingredient:\n",
    "    def __init__(self, name):\n",
    "        self.name = name\n",
    "\n",
    "    def __str__(self):\n",
    "        return self.name\n",
    "\n",
    "class Dish:\n",
    "    def __init__(self, name, ingredients):\n",
    "        self.name = name\n",
    "        self.ingredients = ingredients\n",
    "\n",
    "    def __str__(self):\n",
    "        return f\"{self.name} ({', '.join(str(ingredient) for ingredient in self.ingredients)})\"\n",
    "\n",
    "class Menu:\n",
    "    def __init__(self, name, dishes):\n",
    "        self.name = name\n",
    "        self.dishes = dishes\n",
    "\n",
    "    def __str__(self):\n",
    "        return f\"Menu: {self.name}\\nDishes:\\n\" + '\\n'.join(f\"- {dish}\" for dish in self.dishes)\n",
    "\n",
    "\n",
    "ingredient1 = Ingredient(\"Tomato\")\n",
    "ingredient2 = Ingredient(\"Cheese\")\n",
    "ingredient3 = Ingredient(\"Bread\")\n",
    "\n",
    "dish1 = Dish(\"Margherita Pizza\", [ingredient1, ingredient2, ingredient3])\n",
    "dish2 = Dish(\"Caprese Salad\", [ingredient1, ingredient2])\n",
    "\n",
    "menu = Menu(\"Italian Menu\", [dish1, dish2])\n",
    "print(menu)\n"
   ]
  },
  {
   "cell_type": "markdown",
   "id": "b85ffcb3-3874-4219-b904-5bad8265d94f",
   "metadata": {},
   "source": [
    "# 15. Explain how composition enhances code maintainability and modularity in Python programs."
   ]
  },
  {
   "cell_type": "raw",
   "id": "02af46d2-6300-47eb-bb35-e19a7ae21c0c",
   "metadata": {},
   "source": [
    "Using composition in Python:\n",
    "\n",
    "Breaks down complex systems into smaller, manageable parts.\n",
    "Promotes code reuse and flexibility.\n",
    "Encourages encapsulation and reduces coupling between classes.\n",
    "Facilitates easier testing and maintenance.\n",
    "Enhances modularity and scalability of the codebase."
   ]
  },
  {
   "cell_type": "markdown",
   "id": "6f88a3e8-564b-4187-9bf4-0b01eaefa398",
   "metadata": {},
   "source": [
    "# 16. Create a Python class for a computer game character, using composition to represent attributes like weapons, armor, and inventory."
   ]
  },
  {
   "cell_type": "code",
   "execution_count": 3,
   "id": "6ad36a56-4122-4842-9f47-41a7322330c3",
   "metadata": {},
   "outputs": [
    {
     "name": "stdout",
     "output_type": "stream",
     "text": [
      "Enemy's health: 40\n"
     ]
    }
   ],
   "source": [
    "class Weapon:\n",
    "    def __init__(self, name, damage):\n",
    "        self.name = name\n",
    "        self.damage = damage\n",
    "\n",
    "class Armor:\n",
    "    def __init__(self, name, defense):\n",
    "        self.name = name\n",
    "        self.defense = defense\n",
    "\n",
    "class Inventory:\n",
    "    def __init__(self):\n",
    "        self.items = []\n",
    "\n",
    "    def add_item(self, item):\n",
    "        self.items.append(item)\n",
    "\n",
    "class Character:\n",
    "    def __init__(self, name, health):\n",
    "        self.name = name\n",
    "        self.health = health\n",
    "        self.weapon = None\n",
    "        self.armor = None\n",
    "        self.inventory = Inventory()\n",
    "\n",
    "    def equip_weapon(self, weapon):\n",
    "        self.weapon = weapon\n",
    "\n",
    "    def equip_armor(self, armor):\n",
    "        self.armor = armor\n",
    "\n",
    "    def take_damage(self, damage):\n",
    "        if self.armor:\n",
    "            damage -= self.armor.defense\n",
    "            damage = max(0, damage)  # Ensure damage doesn't go below 0\n",
    "        self.health -= damage\n",
    "\n",
    "    def attack(self, target):\n",
    "        if self.weapon:\n",
    "            target.take_damage(self.weapon.damage)\n",
    "        else:\n",
    "            print(f\"{self.name} punches {target.name}.\")\n",
    "\n",
    "sword = Weapon(\"Sword\", 10)\n",
    "shield = Armor(\"Shield\", 5)\n",
    "\n",
    "player = Character(\"Player\", 100)\n",
    "enemy = Character(\"Enemy\", 50)\n",
    "\n",
    "player.equip_weapon(sword)\n",
    "player.equip_armor(shield)\n",
    "player.inventory.add_item(\"Potion\")\n",
    "\n",
    "player.attack(enemy)\n",
    "print(f\"{enemy.name}'s health:\", enemy.health)\n"
   ]
  },
  {
   "cell_type": "markdown",
   "id": "7645c270-3a3a-4b66-8ce9-f496690b3d3f",
   "metadata": {},
   "source": [
    "# 17. Describe the concept of \"aggregation\" in composition and how it differs from simple composition."
   ]
  },
  {
   "cell_type": "markdown",
   "id": "3b7b2b3e-1faa-4ec3-86e7-ae1077cace56",
   "metadata": {},
   "source": [
    "Aggregation in composition is a relationship where one object contains or is associated with another object, but the contained object can exist independently and can be shared among multiple containing objects. This differs from simple composition in that the contained object is not exclusively owned by the containing object, and there is typically a one-to-many relationship between them, providing more flexibility and reusability."
   ]
  },
  {
   "cell_type": "markdown",
   "id": "490acf6e-16ea-404b-8ac1-593fd4a9b8e4",
   "metadata": {},
   "source": [
    "# 18. Create a Python class for a house, using composition to represent rooms, furniture, and appliances."
   ]
  },
  {
   "cell_type": "code",
   "execution_count": 5,
   "id": "3607623e-ace8-4eeb-9a73-65174eeb74da",
   "metadata": {},
   "outputs": [
    {
     "name": "stdout",
     "output_type": "stream",
     "text": [
      "My House:\n",
      "Kitchen:\n",
      "  Furniture: Table\n",
      "  Appliances: Refrigerator\n",
      "Living Room:\n",
      "  Furniture: Sofa\n",
      "  Appliances: Television\n"
     ]
    }
   ],
   "source": [
    "class Furniture:\n",
    "    def __init__(self, name):\n",
    "        self.name = name\n",
    "\n",
    "    def __str__(self):\n",
    "        return self.name\n",
    "\n",
    "\n",
    "class Appliance:\n",
    "    def __init__(self, name):\n",
    "        self.name = name\n",
    "\n",
    "    def __str__(self):\n",
    "        return self.name\n",
    "\n",
    "\n",
    "class Room:\n",
    "    def __init__(self, name):\n",
    "        self.name = name\n",
    "        self.furniture = []\n",
    "        self.appliances = []\n",
    "\n",
    "    def add_furniture(self, furniture):\n",
    "        self.furniture.append(furniture)\n",
    "\n",
    "    def add_appliance(self, appliance):\n",
    "        self.appliances.append(appliance)\n",
    "\n",
    "    def __str__(self):\n",
    "        furniture_str = ', '.join(str(item) for item in self.furniture)\n",
    "        appliance_str = ', '.join(str(item) for item in self.appliances)\n",
    "        return f\"{self.name}:\\n  Furniture: {furniture_str}\\n  Appliances: {appliance_str}\"\n",
    "\n",
    "\n",
    "class House:\n",
    "    def __init__(self, name):\n",
    "        self.name = name\n",
    "        self.rooms = []\n",
    "\n",
    "    def add_room(self, room):\n",
    "        self.rooms.append(room)\n",
    "\n",
    "    def __str__(self):\n",
    "        return f\"{self.name}:\\n\" + '\\n'.join(str(room) for room in self.rooms)\n",
    "\n",
    "kitchen = Room(\"Kitchen\")\n",
    "kitchen.add_furniture(Furniture(\"Table\"))\n",
    "kitchen.add_appliance(Appliance(\"Refrigerator\"))\n",
    "\n",
    "living_room = Room(\"Living Room\")\n",
    "living_room.add_furniture(Furniture(\"Sofa\"))\n",
    "living_room.add_appliance(Appliance(\"Television\"))\n",
    "\n",
    "my_house = House(\"My House\")\n",
    "my_house.add_room(kitchen)\n",
    "my_house.add_room(living_room)\n",
    "\n",
    "print(my_house)\n"
   ]
  },
  {
   "cell_type": "markdown",
   "id": "db843e96-5c34-4496-b05d-af71d55006fb",
   "metadata": {},
   "source": [
    "# 19. How can you achieve flexibility in composed objects by allowing them to be replaced or modified dynamically at runtime?"
   ]
  },
  {
   "cell_type": "markdown",
   "id": "dafd7b38-44c8-48d7-a79d-5d03fd950e23",
   "metadata": {},
   "source": [
    "We can achieve flexibility in composed objects by using interfaces or abstract classes to define the behavior of the contained objects. This allows objects to be replaced or modified dynamically at runtime by providing alternative implementations that adhere to the same interface. This approach, known as polymorphism, enables interchangeable components within composed objects without requiring changes to the overall structure of the system"
   ]
  },
  {
   "cell_type": "markdown",
   "id": "bc23b78a-746b-455c-9d7a-2587b318c02e",
   "metadata": {},
   "source": [
    "# 20. Create a Python class for a social media application, using composition to represent users, posts, and comments."
   ]
  },
  {
   "cell_type": "code",
   "execution_count": 6,
   "id": "5663791d-14a5-4213-912d-9cbc604c07ac",
   "metadata": {},
   "outputs": [
    {
     "name": "stdout",
     "output_type": "stream",
     "text": [
      "Azman: Hello, Pwskills\n",
      "Comments:\n",
      " - Arshiya: Hi, Azman\n",
      "Arshiya: Nice Lecture today.\n",
      "Comments:\n",
      " - Azman: Yes, it is.\n"
     ]
    }
   ],
   "source": [
    "class Comment:\n",
    "    def __init__(self, user, content):\n",
    "        self.user = user\n",
    "        self.content = content\n",
    "\n",
    "    def __str__(self):\n",
    "        return f\"{self.user}: {self.content}\"\n",
    "\n",
    "\n",
    "class Post:\n",
    "    def __init__(self, user, content):\n",
    "        self.user = user\n",
    "        self.content = content\n",
    "        self.comments = []\n",
    "\n",
    "    def add_comment(self, comment):\n",
    "        self.comments.append(comment)\n",
    "\n",
    "    def __str__(self):\n",
    "        post_str = f\"{self.user}: {self.content}\\nComments:\"\n",
    "        for comment in self.comments:\n",
    "            post_str += f\"\\n - {comment}\"\n",
    "        return post_str\n",
    "\n",
    "\n",
    "class User:\n",
    "    def __init__(self, username):\n",
    "        self.username = username\n",
    "        self.posts = []\n",
    "\n",
    "    def create_post(self, content):\n",
    "        post = Post(self.username, content)\n",
    "        self.posts.append(post)\n",
    "        return post\n",
    "\n",
    "    def __str__(self):\n",
    "        return self.username\n",
    "\n",
    "\n",
    "class SocialMediaApp:\n",
    "    def __init__(self):\n",
    "        self.users = []\n",
    "\n",
    "    def create_user(self, username):\n",
    "        user = User(username)\n",
    "        self.users.append(user)\n",
    "        return user\n",
    "\n",
    "    def __str__(self):\n",
    "        return f\"Social Media App\\nUsers: {', '.join(str(user) for user in self.users)}\"\n",
    "\n",
    "\n",
    "# Example usage:\n",
    "social_media_app = SocialMediaApp()\n",
    "user1 = social_media_app.create_user(\"Azman\")\n",
    "user2 = social_media_app.create_user(\"Arshiya\")\n",
    "\n",
    "post1 = user1.create_post(\"Hello, Pwskills\")\n",
    "post2 = user2.create_post(\"Nice Lecture today.\")\n",
    "\n",
    "post1.add_comment(Comment(user2, \"Hi, Azman\"))\n",
    "post2.add_comment(Comment(user1, \"Yes, it is.\"))\n",
    "\n",
    "print(post1)\n",
    "print(post2)\n"
   ]
  },
  {
   "cell_type": "code",
   "execution_count": null,
   "id": "30a95db1-850c-4333-aa65-dfa0a30147d4",
   "metadata": {},
   "outputs": [],
   "source": []
  }
 ],
 "metadata": {
  "kernelspec": {
   "display_name": "Python 3 (ipykernel)",
   "language": "python",
   "name": "python3"
  },
  "language_info": {
   "codemirror_mode": {
    "name": "ipython",
    "version": 3
   },
   "file_extension": ".py",
   "mimetype": "text/x-python",
   "name": "python",
   "nbconvert_exporter": "python",
   "pygments_lexer": "ipython3",
   "version": "3.10.8"
  }
 },
 "nbformat": 4,
 "nbformat_minor": 5
}
